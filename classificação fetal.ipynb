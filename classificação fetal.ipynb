{
  "nbformat": 4,
  "nbformat_minor": 0,
  "metadata": {
    "colab": {
      "provenance": []
    },
    "kernelspec": {
      "name": "python3",
      "display_name": "Python 3"
    },
    "language_info": {
      "name": "python"
    },
    "widgets": {
      "application/vnd.jupyter.widget-state+json": {
        "18a21a6e76d3406d986bb3c1f5c94fe4": {
          "model_module": "@jupyter-widgets/controls",
          "model_name": "HBoxModel",
          "model_module_version": "1.5.0",
          "state": {
            "_dom_classes": [],
            "_model_module": "@jupyter-widgets/controls",
            "_model_module_version": "1.5.0",
            "_model_name": "HBoxModel",
            "_view_count": null,
            "_view_module": "@jupyter-widgets/controls",
            "_view_module_version": "1.5.0",
            "_view_name": "HBoxView",
            "box_style": "",
            "children": [
              "IPY_MODEL_1fc8cfb881144f39908a4029e740f14b",
              "IPY_MODEL_9f1433259b9042cf816dd8bc1001957d",
              "IPY_MODEL_846d2cf274dc4b45b34d39a82bc0855c"
            ],
            "layout": "IPY_MODEL_f5e79a1f6a024c1b92506d53d2982738"
          }
        },
        "1fc8cfb881144f39908a4029e740f14b": {
          "model_module": "@jupyter-widgets/controls",
          "model_name": "HTMLModel",
          "model_module_version": "1.5.0",
          "state": {
            "_dom_classes": [],
            "_model_module": "@jupyter-widgets/controls",
            "_model_module_version": "1.5.0",
            "_model_name": "HTMLModel",
            "_view_count": null,
            "_view_module": "@jupyter-widgets/controls",
            "_view_module_version": "1.5.0",
            "_view_name": "HTMLView",
            "description": "",
            "description_tooltip": null,
            "layout": "IPY_MODEL_85f50a18ee674251b408ac983b502729",
            "placeholder": "​",
            "style": "IPY_MODEL_b0bb27cd18cc4eeea4abe0258c33acbd",
            "value": "Processing: 100%"
          }
        },
        "9f1433259b9042cf816dd8bc1001957d": {
          "model_module": "@jupyter-widgets/controls",
          "model_name": "FloatProgressModel",
          "model_module_version": "1.5.0",
          "state": {
            "_dom_classes": [],
            "_model_module": "@jupyter-widgets/controls",
            "_model_module_version": "1.5.0",
            "_model_name": "FloatProgressModel",
            "_view_count": null,
            "_view_module": "@jupyter-widgets/controls",
            "_view_module_version": "1.5.0",
            "_view_name": "ProgressView",
            "bar_style": "",
            "description": "",
            "description_tooltip": null,
            "layout": "IPY_MODEL_45fedbc9d3ef40db84b01a3e532955c2",
            "max": 69,
            "min": 0,
            "orientation": "horizontal",
            "style": "IPY_MODEL_e859e62fcc8c4efaaccca3eadb027d21",
            "value": 69
          }
        },
        "846d2cf274dc4b45b34d39a82bc0855c": {
          "model_module": "@jupyter-widgets/controls",
          "model_name": "HTMLModel",
          "model_module_version": "1.5.0",
          "state": {
            "_dom_classes": [],
            "_model_module": "@jupyter-widgets/controls",
            "_model_module_version": "1.5.0",
            "_model_name": "HTMLModel",
            "_view_count": null,
            "_view_module": "@jupyter-widgets/controls",
            "_view_module_version": "1.5.0",
            "_view_name": "HTMLView",
            "description": "",
            "description_tooltip": null,
            "layout": "IPY_MODEL_ca8925ec19764d4bbb79031d1b4dc8bb",
            "placeholder": "​",
            "style": "IPY_MODEL_c9b7f37ef8324fecaf0728e94537bcb3",
            "value": " 69/69 [02:00&lt;00:00,  2.34s/it]"
          }
        },
        "f5e79a1f6a024c1b92506d53d2982738": {
          "model_module": "@jupyter-widgets/base",
          "model_name": "LayoutModel",
          "model_module_version": "1.2.0",
          "state": {
            "_model_module": "@jupyter-widgets/base",
            "_model_module_version": "1.2.0",
            "_model_name": "LayoutModel",
            "_view_count": null,
            "_view_module": "@jupyter-widgets/base",
            "_view_module_version": "1.2.0",
            "_view_name": "LayoutView",
            "align_content": null,
            "align_items": null,
            "align_self": null,
            "border": null,
            "bottom": null,
            "display": null,
            "flex": null,
            "flex_flow": null,
            "grid_area": null,
            "grid_auto_columns": null,
            "grid_auto_flow": null,
            "grid_auto_rows": null,
            "grid_column": null,
            "grid_gap": null,
            "grid_row": null,
            "grid_template_areas": null,
            "grid_template_columns": null,
            "grid_template_rows": null,
            "height": null,
            "justify_content": null,
            "justify_items": null,
            "left": null,
            "margin": null,
            "max_height": null,
            "max_width": null,
            "min_height": null,
            "min_width": null,
            "object_fit": null,
            "object_position": null,
            "order": null,
            "overflow": null,
            "overflow_x": null,
            "overflow_y": null,
            "padding": null,
            "right": null,
            "top": null,
            "visibility": "hidden",
            "width": null
          }
        },
        "85f50a18ee674251b408ac983b502729": {
          "model_module": "@jupyter-widgets/base",
          "model_name": "LayoutModel",
          "model_module_version": "1.2.0",
          "state": {
            "_model_module": "@jupyter-widgets/base",
            "_model_module_version": "1.2.0",
            "_model_name": "LayoutModel",
            "_view_count": null,
            "_view_module": "@jupyter-widgets/base",
            "_view_module_version": "1.2.0",
            "_view_name": "LayoutView",
            "align_content": null,
            "align_items": null,
            "align_self": null,
            "border": null,
            "bottom": null,
            "display": null,
            "flex": null,
            "flex_flow": null,
            "grid_area": null,
            "grid_auto_columns": null,
            "grid_auto_flow": null,
            "grid_auto_rows": null,
            "grid_column": null,
            "grid_gap": null,
            "grid_row": null,
            "grid_template_areas": null,
            "grid_template_columns": null,
            "grid_template_rows": null,
            "height": null,
            "justify_content": null,
            "justify_items": null,
            "left": null,
            "margin": null,
            "max_height": null,
            "max_width": null,
            "min_height": null,
            "min_width": null,
            "object_fit": null,
            "object_position": null,
            "order": null,
            "overflow": null,
            "overflow_x": null,
            "overflow_y": null,
            "padding": null,
            "right": null,
            "top": null,
            "visibility": null,
            "width": null
          }
        },
        "b0bb27cd18cc4eeea4abe0258c33acbd": {
          "model_module": "@jupyter-widgets/controls",
          "model_name": "DescriptionStyleModel",
          "model_module_version": "1.5.0",
          "state": {
            "_model_module": "@jupyter-widgets/controls",
            "_model_module_version": "1.5.0",
            "_model_name": "DescriptionStyleModel",
            "_view_count": null,
            "_view_module": "@jupyter-widgets/base",
            "_view_module_version": "1.2.0",
            "_view_name": "StyleView",
            "description_width": ""
          }
        },
        "45fedbc9d3ef40db84b01a3e532955c2": {
          "model_module": "@jupyter-widgets/base",
          "model_name": "LayoutModel",
          "model_module_version": "1.2.0",
          "state": {
            "_model_module": "@jupyter-widgets/base",
            "_model_module_version": "1.2.0",
            "_model_name": "LayoutModel",
            "_view_count": null,
            "_view_module": "@jupyter-widgets/base",
            "_view_module_version": "1.2.0",
            "_view_name": "LayoutView",
            "align_content": null,
            "align_items": null,
            "align_self": null,
            "border": null,
            "bottom": null,
            "display": null,
            "flex": null,
            "flex_flow": null,
            "grid_area": null,
            "grid_auto_columns": null,
            "grid_auto_flow": null,
            "grid_auto_rows": null,
            "grid_column": null,
            "grid_gap": null,
            "grid_row": null,
            "grid_template_areas": null,
            "grid_template_columns": null,
            "grid_template_rows": null,
            "height": null,
            "justify_content": null,
            "justify_items": null,
            "left": null,
            "margin": null,
            "max_height": null,
            "max_width": null,
            "min_height": null,
            "min_width": null,
            "object_fit": null,
            "object_position": null,
            "order": null,
            "overflow": null,
            "overflow_x": null,
            "overflow_y": null,
            "padding": null,
            "right": null,
            "top": null,
            "visibility": null,
            "width": null
          }
        },
        "e859e62fcc8c4efaaccca3eadb027d21": {
          "model_module": "@jupyter-widgets/controls",
          "model_name": "ProgressStyleModel",
          "model_module_version": "1.5.0",
          "state": {
            "_model_module": "@jupyter-widgets/controls",
            "_model_module_version": "1.5.0",
            "_model_name": "ProgressStyleModel",
            "_view_count": null,
            "_view_module": "@jupyter-widgets/base",
            "_view_module_version": "1.2.0",
            "_view_name": "StyleView",
            "bar_color": null,
            "description_width": ""
          }
        },
        "ca8925ec19764d4bbb79031d1b4dc8bb": {
          "model_module": "@jupyter-widgets/base",
          "model_name": "LayoutModel",
          "model_module_version": "1.2.0",
          "state": {
            "_model_module": "@jupyter-widgets/base",
            "_model_module_version": "1.2.0",
            "_model_name": "LayoutModel",
            "_view_count": null,
            "_view_module": "@jupyter-widgets/base",
            "_view_module_version": "1.2.0",
            "_view_name": "LayoutView",
            "align_content": null,
            "align_items": null,
            "align_self": null,
            "border": null,
            "bottom": null,
            "display": null,
            "flex": null,
            "flex_flow": null,
            "grid_area": null,
            "grid_auto_columns": null,
            "grid_auto_flow": null,
            "grid_auto_rows": null,
            "grid_column": null,
            "grid_gap": null,
            "grid_row": null,
            "grid_template_areas": null,
            "grid_template_columns": null,
            "grid_template_rows": null,
            "height": null,
            "justify_content": null,
            "justify_items": null,
            "left": null,
            "margin": null,
            "max_height": null,
            "max_width": null,
            "min_height": null,
            "min_width": null,
            "object_fit": null,
            "object_position": null,
            "order": null,
            "overflow": null,
            "overflow_x": null,
            "overflow_y": null,
            "padding": null,
            "right": null,
            "top": null,
            "visibility": null,
            "width": null
          }
        },
        "c9b7f37ef8324fecaf0728e94537bcb3": {
          "model_module": "@jupyter-widgets/controls",
          "model_name": "DescriptionStyleModel",
          "model_module_version": "1.5.0",
          "state": {
            "_model_module": "@jupyter-widgets/controls",
            "_model_module_version": "1.5.0",
            "_model_name": "DescriptionStyleModel",
            "_view_count": null,
            "_view_module": "@jupyter-widgets/base",
            "_view_module_version": "1.2.0",
            "_view_name": "StyleView",
            "description_width": ""
          }
        },
        "2736b02cd21b41dfbc12560199c2f24c": {
          "model_module": "@jupyter-widgets/controls",
          "model_name": "HBoxModel",
          "model_module_version": "1.5.0",
          "state": {
            "_dom_classes": [],
            "_model_module": "@jupyter-widgets/controls",
            "_model_module_version": "1.5.0",
            "_model_name": "HBoxModel",
            "_view_count": null,
            "_view_module": "@jupyter-widgets/controls",
            "_view_module_version": "1.5.0",
            "_view_name": "HBoxView",
            "box_style": "",
            "children": [
              "IPY_MODEL_ef8e25caef5e42ba893cf92ebceed0b6",
              "IPY_MODEL_fb1953bf0a1d457eaf9e3617d3c33255",
              "IPY_MODEL_ee9b3da381c843e2b238deee19815e07"
            ],
            "layout": "IPY_MODEL_cade7caafe874b87aadfd749c11483f5"
          }
        },
        "ef8e25caef5e42ba893cf92ebceed0b6": {
          "model_module": "@jupyter-widgets/controls",
          "model_name": "HTMLModel",
          "model_module_version": "1.5.0",
          "state": {
            "_dom_classes": [],
            "_model_module": "@jupyter-widgets/controls",
            "_model_module_version": "1.5.0",
            "_model_name": "HTMLModel",
            "_view_count": null,
            "_view_module": "@jupyter-widgets/controls",
            "_view_module_version": "1.5.0",
            "_view_name": "HTMLView",
            "description": "",
            "description_tooltip": null,
            "layout": "IPY_MODEL_90a2bfdc8b044acb90a9c2595bf260d4",
            "placeholder": "​",
            "style": "IPY_MODEL_3cce007cc5624873945936272440cbf5",
            "value": "Processing: 100%"
          }
        },
        "fb1953bf0a1d457eaf9e3617d3c33255": {
          "model_module": "@jupyter-widgets/controls",
          "model_name": "FloatProgressModel",
          "model_module_version": "1.5.0",
          "state": {
            "_dom_classes": [],
            "_model_module": "@jupyter-widgets/controls",
            "_model_module_version": "1.5.0",
            "_model_name": "FloatProgressModel",
            "_view_count": null,
            "_view_module": "@jupyter-widgets/controls",
            "_view_module_version": "1.5.0",
            "_view_name": "ProgressView",
            "bar_style": "",
            "description": "",
            "description_tooltip": null,
            "layout": "IPY_MODEL_901cfd1863ab4ab389f011b809e4be14",
            "max": 7,
            "min": 0,
            "orientation": "horizontal",
            "style": "IPY_MODEL_8961900bbeba4ed58192465edc06e965",
            "value": 7
          }
        },
        "ee9b3da381c843e2b238deee19815e07": {
          "model_module": "@jupyter-widgets/controls",
          "model_name": "HTMLModel",
          "model_module_version": "1.5.0",
          "state": {
            "_dom_classes": [],
            "_model_module": "@jupyter-widgets/controls",
            "_model_module_version": "1.5.0",
            "_model_name": "HTMLModel",
            "_view_count": null,
            "_view_module": "@jupyter-widgets/controls",
            "_view_module_version": "1.5.0",
            "_view_name": "HTMLView",
            "description": "",
            "description_tooltip": null,
            "layout": "IPY_MODEL_46402a862e3044ccbf5b09ede70f264c",
            "placeholder": "​",
            "style": "IPY_MODEL_6f66edf3300e406ba774a0b17ae2d45f",
            "value": " 7/7 [01:08&lt;00:00,  7.50s/it]"
          }
        },
        "cade7caafe874b87aadfd749c11483f5": {
          "model_module": "@jupyter-widgets/base",
          "model_name": "LayoutModel",
          "model_module_version": "1.2.0",
          "state": {
            "_model_module": "@jupyter-widgets/base",
            "_model_module_version": "1.2.0",
            "_model_name": "LayoutModel",
            "_view_count": null,
            "_view_module": "@jupyter-widgets/base",
            "_view_module_version": "1.2.0",
            "_view_name": "LayoutView",
            "align_content": null,
            "align_items": null,
            "align_self": null,
            "border": null,
            "bottom": null,
            "display": null,
            "flex": null,
            "flex_flow": null,
            "grid_area": null,
            "grid_auto_columns": null,
            "grid_auto_flow": null,
            "grid_auto_rows": null,
            "grid_column": null,
            "grid_gap": null,
            "grid_row": null,
            "grid_template_areas": null,
            "grid_template_columns": null,
            "grid_template_rows": null,
            "height": null,
            "justify_content": null,
            "justify_items": null,
            "left": null,
            "margin": null,
            "max_height": null,
            "max_width": null,
            "min_height": null,
            "min_width": null,
            "object_fit": null,
            "object_position": null,
            "order": null,
            "overflow": null,
            "overflow_x": null,
            "overflow_y": null,
            "padding": null,
            "right": null,
            "top": null,
            "visibility": "hidden",
            "width": null
          }
        },
        "90a2bfdc8b044acb90a9c2595bf260d4": {
          "model_module": "@jupyter-widgets/base",
          "model_name": "LayoutModel",
          "model_module_version": "1.2.0",
          "state": {
            "_model_module": "@jupyter-widgets/base",
            "_model_module_version": "1.2.0",
            "_model_name": "LayoutModel",
            "_view_count": null,
            "_view_module": "@jupyter-widgets/base",
            "_view_module_version": "1.2.0",
            "_view_name": "LayoutView",
            "align_content": null,
            "align_items": null,
            "align_self": null,
            "border": null,
            "bottom": null,
            "display": null,
            "flex": null,
            "flex_flow": null,
            "grid_area": null,
            "grid_auto_columns": null,
            "grid_auto_flow": null,
            "grid_auto_rows": null,
            "grid_column": null,
            "grid_gap": null,
            "grid_row": null,
            "grid_template_areas": null,
            "grid_template_columns": null,
            "grid_template_rows": null,
            "height": null,
            "justify_content": null,
            "justify_items": null,
            "left": null,
            "margin": null,
            "max_height": null,
            "max_width": null,
            "min_height": null,
            "min_width": null,
            "object_fit": null,
            "object_position": null,
            "order": null,
            "overflow": null,
            "overflow_x": null,
            "overflow_y": null,
            "padding": null,
            "right": null,
            "top": null,
            "visibility": null,
            "width": null
          }
        },
        "3cce007cc5624873945936272440cbf5": {
          "model_module": "@jupyter-widgets/controls",
          "model_name": "DescriptionStyleModel",
          "model_module_version": "1.5.0",
          "state": {
            "_model_module": "@jupyter-widgets/controls",
            "_model_module_version": "1.5.0",
            "_model_name": "DescriptionStyleModel",
            "_view_count": null,
            "_view_module": "@jupyter-widgets/base",
            "_view_module_version": "1.2.0",
            "_view_name": "StyleView",
            "description_width": ""
          }
        },
        "901cfd1863ab4ab389f011b809e4be14": {
          "model_module": "@jupyter-widgets/base",
          "model_name": "LayoutModel",
          "model_module_version": "1.2.0",
          "state": {
            "_model_module": "@jupyter-widgets/base",
            "_model_module_version": "1.2.0",
            "_model_name": "LayoutModel",
            "_view_count": null,
            "_view_module": "@jupyter-widgets/base",
            "_view_module_version": "1.2.0",
            "_view_name": "LayoutView",
            "align_content": null,
            "align_items": null,
            "align_self": null,
            "border": null,
            "bottom": null,
            "display": null,
            "flex": null,
            "flex_flow": null,
            "grid_area": null,
            "grid_auto_columns": null,
            "grid_auto_flow": null,
            "grid_auto_rows": null,
            "grid_column": null,
            "grid_gap": null,
            "grid_row": null,
            "grid_template_areas": null,
            "grid_template_columns": null,
            "grid_template_rows": null,
            "height": null,
            "justify_content": null,
            "justify_items": null,
            "left": null,
            "margin": null,
            "max_height": null,
            "max_width": null,
            "min_height": null,
            "min_width": null,
            "object_fit": null,
            "object_position": null,
            "order": null,
            "overflow": null,
            "overflow_x": null,
            "overflow_y": null,
            "padding": null,
            "right": null,
            "top": null,
            "visibility": null,
            "width": null
          }
        },
        "8961900bbeba4ed58192465edc06e965": {
          "model_module": "@jupyter-widgets/controls",
          "model_name": "ProgressStyleModel",
          "model_module_version": "1.5.0",
          "state": {
            "_model_module": "@jupyter-widgets/controls",
            "_model_module_version": "1.5.0",
            "_model_name": "ProgressStyleModel",
            "_view_count": null,
            "_view_module": "@jupyter-widgets/base",
            "_view_module_version": "1.2.0",
            "_view_name": "StyleView",
            "bar_color": null,
            "description_width": ""
          }
        },
        "46402a862e3044ccbf5b09ede70f264c": {
          "model_module": "@jupyter-widgets/base",
          "model_name": "LayoutModel",
          "model_module_version": "1.2.0",
          "state": {
            "_model_module": "@jupyter-widgets/base",
            "_model_module_version": "1.2.0",
            "_model_name": "LayoutModel",
            "_view_count": null,
            "_view_module": "@jupyter-widgets/base",
            "_view_module_version": "1.2.0",
            "_view_name": "LayoutView",
            "align_content": null,
            "align_items": null,
            "align_self": null,
            "border": null,
            "bottom": null,
            "display": null,
            "flex": null,
            "flex_flow": null,
            "grid_area": null,
            "grid_auto_columns": null,
            "grid_auto_flow": null,
            "grid_auto_rows": null,
            "grid_column": null,
            "grid_gap": null,
            "grid_row": null,
            "grid_template_areas": null,
            "grid_template_columns": null,
            "grid_template_rows": null,
            "height": null,
            "justify_content": null,
            "justify_items": null,
            "left": null,
            "margin": null,
            "max_height": null,
            "max_width": null,
            "min_height": null,
            "min_width": null,
            "object_fit": null,
            "object_position": null,
            "order": null,
            "overflow": null,
            "overflow_x": null,
            "overflow_y": null,
            "padding": null,
            "right": null,
            "top": null,
            "visibility": null,
            "width": null
          }
        },
        "6f66edf3300e406ba774a0b17ae2d45f": {
          "model_module": "@jupyter-widgets/controls",
          "model_name": "DescriptionStyleModel",
          "model_module_version": "1.5.0",
          "state": {
            "_model_module": "@jupyter-widgets/controls",
            "_model_module_version": "1.5.0",
            "_model_name": "DescriptionStyleModel",
            "_view_count": null,
            "_view_module": "@jupyter-widgets/base",
            "_view_module_version": "1.2.0",
            "_view_name": "StyleView",
            "description_width": ""
          }
        }
      }
    }
  },
  "cells": [
    {
      "cell_type": "markdown",
      "metadata": {
        "id": "IR56trFcPcC1"
      },
      "source": [
        "# Classificação de Saúde Fetal com Machine Learning\n",
        "---\n",
        "\n",
        "A taxa de mortalidade infantil é uma preocupação significativa tanto para a saúde pública quanto privada. Infelizmente, há um alto risco de um recém-nascido morrer antes de completar seu primeiro ano de vida. Diversos fatores podem contribuir para z problema. De acordo com o SEADE (Sistema Estadual de Análise de Dados), as principais causas de mortalidade infantil incluem afecções originadas no período perinatal, malformações congênitas, partos de alto risco, doenças infecciosas e parasitárias e doenças do aparelho respiratório. Juntas, essas causas foram x por 88% dos óbitos em 2020 e 90% em 2019.\n",
        "\n",
        "<p align=center>\n",
        "<img src=\"https://img.freepik.com/fotos-gratis/pes-do-bebe-nas-maos-da-mae_1112-1535.jpg?w=1060&t=st=1682879360~exp=1682879960~hmac=06f076d2d54b77d69458ef13da6d676ef72e39cacb7afb308dd1f5a78203d7dc\" width=\"70%\"></p>\n",
        "\n",
        "A intensão é aplicar um modelo de machine learning em um conjunto com os dados fornecidos pelo Cardiotocograma (CTG), capaz de fazer uma previsão de mortes evitáveis de fetos, que auxiliaria profissionais da área obstétrica a identificar partos com alto potencial de risco, desta forma será possível um diagnóstico mais ágil e preciso, promovendo uma redução na taxa de mortalidade."
      ]
    },
    {
      "cell_type": "code",
      "source": [
        "from google.colab import drive\n",
        "drive.mount('/content/drive')"
      ],
      "metadata": {
        "id": "CdC96VtWvAq2"
      },
      "execution_count": null,
      "outputs": []
    },
    {
      "cell_type": "markdown",
      "source": [
        "## Importando os Dados\n",
        "\n",
        "É importante definir quais fontes de dados são relevantes para o projeto e selecionar quais dados precisam ser coletados.  Alguns fatores importantes a serem considerados incluem: a confiabilidade das fontes de dados, o volume de dados, a frequência de atualização e a segurança dos dados. É essencial garantir que os dados sejam coletados e avaliados corretamente para assegurar a confiabilidade dos resultados do projeto.\n"
      ],
      "metadata": {
        "id": "gTBJ51lCVci1"
      }
    },
    {
      "cell_type": "code",
      "source": [
        "# Importando os pacotes necessarios\n",
        "import numpy as np\n",
        "import matplotlib.pyplot as plt\n",
        "import pandas as pd\n",
        "import plotly.express as px\n",
        "import seaborn as sns\n",
        "from rich.console import Console\n",
        "from rich import print\n",
        "from rich.panel import Panel\n",
        "from rich.table import Table\n",
        "%matplotlib inline"
      ],
      "metadata": {
        "id": "p84HPNjrcv1K"
      },
      "execution_count": null,
      "outputs": []
    },
    {
      "cell_type": "markdown",
      "source": [
        "* Os dados utilizados neste projeto foram disponibilizados originalmente pelos\n",
        "\n",
        "1.   Item da lista\n",
        "2.   Item da lista\n",
        "\n",
        "pesquisadores responsáveis pelo [SisPorto 2.0](https://onlinelibrary.wiley.com/doi/10.1002/1520-6661(200009/10)9:5%3C311::AID-MFM12%3E3.0.CO;2-9), um programa de análise automatizada de cardiotocogramas. Para acessar esses dados, é possível adquiri-los na plataforma Kaggle.\n",
        "\n",
        "<p align=center>\n",
        "<img src=\"https://upload.wikimedia.org/wikipedia/commons/7/7c/Kaggle_logo.png?20140912155123\" width=\"30%\"></p>\n",
        "\n",
        "* Este conjunto de dados contém 2126 registros de características extraídas de exames de cardiotocograma."
      ],
      "metadata": {
        "id": "gwYLV6af-SIl"
      }
    },
    {
      "cell_type": "code",
      "source": [
        "# Importar warnings filter\n",
        "from warnings import simplefilter\n",
        "# Ignorar futuros warnings\n",
        "simplefilter(action='ignore', category=FutureWarning)"
      ],
      "metadata": {
        "id": "Hrx9oxdmhkay"
      },
      "execution_count": null,
      "outputs": []
    },
    {
      "cell_type": "code",
      "source": [
        "df_health = pd.read_csv('/content/fetal_health.csv')\n",
        "df_health.index = np.arange(1, len(df_health)+1)"
      ],
      "metadata": {
        "id": "_pnB0tDZhtxM"
      },
      "execution_count": null,
      "outputs": []
    },
    {
      "cell_type": "markdown",
      "metadata": {
        "id": "7nF_Dhd81Cvq"
      },
      "source": [
        "Com os dados importados para dentro de uma estrutura *Dataframe* - e não havendo a necessidade de mais nenhum ajuste ou configuração nesta etapa, pode-se iniciar uma análise exploratória dos dados a fim de preparar um modelo de *Machine Learning*."
      ]
    },
    {
      "cell_type": "markdown",
      "metadata": {
        "id": "mSfS74gU1LBS"
      },
      "source": [
        "\n",
        "\n",
        "```\n",
        "# Isto está formatado como código\n",
        "```\n",
        "\n",
        "## Dicionário de Variaveis\n",
        "Um guia que fornece descrições conceituais de cada variável em nosso conjunto de dados.\n",
        "\n",
        "\n"
      ]
    },
    {
      "cell_type": "markdown",
      "source": [
        "* `baseline value`:a frequência cardíaca fetal (FCF);\n",
        "* `accelerations`: Número de acelerações por segundo;\n",
        "* `fetal_movement`: Número de movimentos fetais por segundo;\n",
        "* `uterine_contractions`: Número de contrações uterinas por segundo;\n",
        "* `light_decelerations`: Número de desacelerações leves por segundo;\n",
        "* `severe_decelerations`: Número de desacelerações severas por segundo;\n",
        "* `prolongued_decelerations`: Número de desacelerações prolongadas por segundo;\n",
        "* `abnormal_short`: Porcentagem de tempo com variabilidade anormal de curto prazo;\n",
        "* `mean_value_of_short_term_variability`:Valor médio da variabilidade de curto prazo;\n",
        "* `percentage_of_time`:Porcentagem de tempo com variabilidade anormal de longo prazo;\n",
        "* `mean_value_of_long`: Valor médio da variabilidade de longo prazo;\n",
        "* `histogram_width`: Largura do histograma feito usando todos os valores de um registro;\n",
        "* `histogram_min`:O valor mínimo da FCF no histograma;\n",
        "* `histogram_max`: O valor maximo da FCF no histograma;\n",
        "* `histogram_number_of_peaks`:o número de picos distintos no histograma da FCF;\n",
        "\n",
        "* `histogram_number_of_zeroes`: o número de vezes que a FCF chega a zero no histograma.\n",
        "* `histogram_mode`: o valor mais comum no histograma da FCF;\n",
        "* `histogram_mean`: o valor médio da FCF no histograma.\n",
        "* `histogram_median`: o valor mediano da FCF no histograma.\n",
        "* `histogram_variance`: uma medida da dispersão da distribuição da FCF no histograma.\n",
        "\n",
        "* `histogram_tendency` : uma medida da dispersão da distribuição da FCF no histograma.\n",
        "\n",
        "* `fetal_health`: saúde fetal (1 — normal; 2 — Suspeito; 3 — Patológico)."
      ],
      "metadata": {
        "id": "b68hztHFByKX"
      }
    },
    {
      "cell_type": "markdown",
      "source": [
        "## Análise exploratória de dados\n",
        "Com os dados devidamente coletados, a próxima etapa é a análise exploratória de dados. Nessa etapa, empregamos diversas técnicas e ferramentas para entender melhor os dados coletados, identificando possíveis anomalias, relacionamentos e tendências nos dados. Esse processo nos permite obter uma visão mais completa e detalhada dos dados, permitindo-nos compreender melhor o comportamento das variáveis e suas interações."
      ],
      "metadata": {
        "id": "bu6gSr1YVn5t"
      }
    },
    {
      "cell_type": "markdown",
      "source": [
        "* Antes de iniciar a análise dos dados, vamos verificar o nosso dataset, analisando as 5 primeiras entradas."
      ],
      "metadata": {
        "id": "iG6T_9EHiJYf"
      }
    },
    {
      "cell_type": "code",
      "source": [
        "df_health.head() # verificando as 5 primeiras entradas"
      ],
      "metadata": {
        "id": "M1GjcGwwIbzd",
        "colab": {
          "base_uri": "https://localhost:8080/",
          "height": 317
        },
        "outputId": "7ded04c1-b2d5-4211-b5de-7e74dea99dd9"
      },
      "execution_count": null,
      "outputs": [
        {
          "output_type": "execute_result",
          "data": {
            "text/plain": [
              "   baseline value  accelerations  fetal_movement  uterine_contractions  \\\n",
              "1           120.0          0.000             0.0                 0.000   \n",
              "2           132.0          0.006             0.0                 0.006   \n",
              "3           133.0          0.003             0.0                 0.008   \n",
              "4           134.0          0.003             0.0                 0.008   \n",
              "5           132.0          0.007             0.0                 0.008   \n",
              "\n",
              "   light_decelerations  severe_decelerations  prolongued_decelerations  \\\n",
              "1                0.000                   0.0                       0.0   \n",
              "2                0.003                   0.0                       0.0   \n",
              "3                0.003                   0.0                       0.0   \n",
              "4                0.003                   0.0                       0.0   \n",
              "5                0.000                   0.0                       0.0   \n",
              "\n",
              "   abnormal_short_term_variability  mean_value_of_short_term_variability  \\\n",
              "1                             73.0                                   0.5   \n",
              "2                             17.0                                   2.1   \n",
              "3                             16.0                                   2.1   \n",
              "4                             16.0                                   2.4   \n",
              "5                             16.0                                   2.4   \n",
              "\n",
              "   percentage_of_time_with_abnormal_long_term_variability  ...  histogram_min  \\\n",
              "1                                               43.0       ...           62.0   \n",
              "2                                                0.0       ...           68.0   \n",
              "3                                                0.0       ...           68.0   \n",
              "4                                                0.0       ...           53.0   \n",
              "5                                                0.0       ...           53.0   \n",
              "\n",
              "   histogram_max  histogram_number_of_peaks  histogram_number_of_zeroes  \\\n",
              "1          126.0                        2.0                         0.0   \n",
              "2          198.0                        6.0                         1.0   \n",
              "3          198.0                        5.0                         1.0   \n",
              "4          170.0                       11.0                         0.0   \n",
              "5          170.0                        9.0                         0.0   \n",
              "\n",
              "   histogram_mode  histogram_mean  histogram_median  histogram_variance  \\\n",
              "1           120.0           137.0             121.0                73.0   \n",
              "2           141.0           136.0             140.0                12.0   \n",
              "3           141.0           135.0             138.0                13.0   \n",
              "4           137.0           134.0             137.0                13.0   \n",
              "5           137.0           136.0             138.0                11.0   \n",
              "\n",
              "   histogram_tendency  fetal_health  \n",
              "1                 1.0           2.0  \n",
              "2                 0.0           1.0  \n",
              "3                 0.0           1.0  \n",
              "4                 1.0           1.0  \n",
              "5                 1.0           1.0  \n",
              "\n",
              "[5 rows x 22 columns]"
            ],
            "text/html": [
              "\n",
              "  <div id=\"df-c261b754-f0bf-4e2b-80e8-3cca6c50cd5b\">\n",
              "    <div class=\"colab-df-container\">\n",
              "      <div>\n",
              "<style scoped>\n",
              "    .dataframe tbody tr th:only-of-type {\n",
              "        vertical-align: middle;\n",
              "    }\n",
              "\n",
              "    .dataframe tbody tr th {\n",
              "        vertical-align: top;\n",
              "    }\n",
              "\n",
              "    .dataframe thead th {\n",
              "        text-align: right;\n",
              "    }\n",
              "</style>\n",
              "<table border=\"1\" class=\"dataframe\">\n",
              "  <thead>\n",
              "    <tr style=\"text-align: right;\">\n",
              "      <th></th>\n",
              "      <th>baseline value</th>\n",
              "      <th>accelerations</th>\n",
              "      <th>fetal_movement</th>\n",
              "      <th>uterine_contractions</th>\n",
              "      <th>light_decelerations</th>\n",
              "      <th>severe_decelerations</th>\n",
              "      <th>prolongued_decelerations</th>\n",
              "      <th>abnormal_short_term_variability</th>\n",
              "      <th>mean_value_of_short_term_variability</th>\n",
              "      <th>percentage_of_time_with_abnormal_long_term_variability</th>\n",
              "      <th>...</th>\n",
              "      <th>histogram_min</th>\n",
              "      <th>histogram_max</th>\n",
              "      <th>histogram_number_of_peaks</th>\n",
              "      <th>histogram_number_of_zeroes</th>\n",
              "      <th>histogram_mode</th>\n",
              "      <th>histogram_mean</th>\n",
              "      <th>histogram_median</th>\n",
              "      <th>histogram_variance</th>\n",
              "      <th>histogram_tendency</th>\n",
              "      <th>fetal_health</th>\n",
              "    </tr>\n",
              "  </thead>\n",
              "  <tbody>\n",
              "    <tr>\n",
              "      <th>1</th>\n",
              "      <td>120.0</td>\n",
              "      <td>0.000</td>\n",
              "      <td>0.0</td>\n",
              "      <td>0.000</td>\n",
              "      <td>0.000</td>\n",
              "      <td>0.0</td>\n",
              "      <td>0.0</td>\n",
              "      <td>73.0</td>\n",
              "      <td>0.5</td>\n",
              "      <td>43.0</td>\n",
              "      <td>...</td>\n",
              "      <td>62.0</td>\n",
              "      <td>126.0</td>\n",
              "      <td>2.0</td>\n",
              "      <td>0.0</td>\n",
              "      <td>120.0</td>\n",
              "      <td>137.0</td>\n",
              "      <td>121.0</td>\n",
              "      <td>73.0</td>\n",
              "      <td>1.0</td>\n",
              "      <td>2.0</td>\n",
              "    </tr>\n",
              "    <tr>\n",
              "      <th>2</th>\n",
              "      <td>132.0</td>\n",
              "      <td>0.006</td>\n",
              "      <td>0.0</td>\n",
              "      <td>0.006</td>\n",
              "      <td>0.003</td>\n",
              "      <td>0.0</td>\n",
              "      <td>0.0</td>\n",
              "      <td>17.0</td>\n",
              "      <td>2.1</td>\n",
              "      <td>0.0</td>\n",
              "      <td>...</td>\n",
              "      <td>68.0</td>\n",
              "      <td>198.0</td>\n",
              "      <td>6.0</td>\n",
              "      <td>1.0</td>\n",
              "      <td>141.0</td>\n",
              "      <td>136.0</td>\n",
              "      <td>140.0</td>\n",
              "      <td>12.0</td>\n",
              "      <td>0.0</td>\n",
              "      <td>1.0</td>\n",
              "    </tr>\n",
              "    <tr>\n",
              "      <th>3</th>\n",
              "      <td>133.0</td>\n",
              "      <td>0.003</td>\n",
              "      <td>0.0</td>\n",
              "      <td>0.008</td>\n",
              "      <td>0.003</td>\n",
              "      <td>0.0</td>\n",
              "      <td>0.0</td>\n",
              "      <td>16.0</td>\n",
              "      <td>2.1</td>\n",
              "      <td>0.0</td>\n",
              "      <td>...</td>\n",
              "      <td>68.0</td>\n",
              "      <td>198.0</td>\n",
              "      <td>5.0</td>\n",
              "      <td>1.0</td>\n",
              "      <td>141.0</td>\n",
              "      <td>135.0</td>\n",
              "      <td>138.0</td>\n",
              "      <td>13.0</td>\n",
              "      <td>0.0</td>\n",
              "      <td>1.0</td>\n",
              "    </tr>\n",
              "    <tr>\n",
              "      <th>4</th>\n",
              "      <td>134.0</td>\n",
              "      <td>0.003</td>\n",
              "      <td>0.0</td>\n",
              "      <td>0.008</td>\n",
              "      <td>0.003</td>\n",
              "      <td>0.0</td>\n",
              "      <td>0.0</td>\n",
              "      <td>16.0</td>\n",
              "      <td>2.4</td>\n",
              "      <td>0.0</td>\n",
              "      <td>...</td>\n",
              "      <td>53.0</td>\n",
              "      <td>170.0</td>\n",
              "      <td>11.0</td>\n",
              "      <td>0.0</td>\n",
              "      <td>137.0</td>\n",
              "      <td>134.0</td>\n",
              "      <td>137.0</td>\n",
              "      <td>13.0</td>\n",
              "      <td>1.0</td>\n",
              "      <td>1.0</td>\n",
              "    </tr>\n",
              "    <tr>\n",
              "      <th>5</th>\n",
              "      <td>132.0</td>\n",
              "      <td>0.007</td>\n",
              "      <td>0.0</td>\n",
              "      <td>0.008</td>\n",
              "      <td>0.000</td>\n",
              "      <td>0.0</td>\n",
              "      <td>0.0</td>\n",
              "      <td>16.0</td>\n",
              "      <td>2.4</td>\n",
              "      <td>0.0</td>\n",
              "      <td>...</td>\n",
              "      <td>53.0</td>\n",
              "      <td>170.0</td>\n",
              "      <td>9.0</td>\n",
              "      <td>0.0</td>\n",
              "      <td>137.0</td>\n",
              "      <td>136.0</td>\n",
              "      <td>138.0</td>\n",
              "      <td>11.0</td>\n",
              "      <td>1.0</td>\n",
              "      <td>1.0</td>\n",
              "    </tr>\n",
              "  </tbody>\n",
              "</table>\n",
              "<p>5 rows × 22 columns</p>\n",
              "</div>\n",
              "      <button class=\"colab-df-convert\" onclick=\"convertToInteractive('df-c261b754-f0bf-4e2b-80e8-3cca6c50cd5b')\"\n",
              "              title=\"Convert this dataframe to an interactive table.\"\n",
              "              style=\"display:none;\">\n",
              "        \n",
              "  <svg xmlns=\"http://www.w3.org/2000/svg\" height=\"24px\"viewBox=\"0 0 24 24\"\n",
              "       width=\"24px\">\n",
              "    <path d=\"M0 0h24v24H0V0z\" fill=\"none\"/>\n",
              "    <path d=\"M18.56 5.44l.94 2.06.94-2.06 2.06-.94-2.06-.94-.94-2.06-.94 2.06-2.06.94zm-11 1L8.5 8.5l.94-2.06 2.06-.94-2.06-.94L8.5 2.5l-.94 2.06-2.06.94zm10 10l.94 2.06.94-2.06 2.06-.94-2.06-.94-.94-2.06-.94 2.06-2.06.94z\"/><path d=\"M17.41 7.96l-1.37-1.37c-.4-.4-.92-.59-1.43-.59-.52 0-1.04.2-1.43.59L10.3 9.45l-7.72 7.72c-.78.78-.78 2.05 0 2.83L4 21.41c.39.39.9.59 1.41.59.51 0 1.02-.2 1.41-.59l7.78-7.78 2.81-2.81c.8-.78.8-2.07 0-2.86zM5.41 20L4 18.59l7.72-7.72 1.47 1.35L5.41 20z\"/>\n",
              "  </svg>\n",
              "      </button>\n",
              "      \n",
              "  <style>\n",
              "    .colab-df-container {\n",
              "      display:flex;\n",
              "      flex-wrap:wrap;\n",
              "      gap: 12px;\n",
              "    }\n",
              "\n",
              "    .colab-df-convert {\n",
              "      background-color: #E8F0FE;\n",
              "      border: none;\n",
              "      border-radius: 50%;\n",
              "      cursor: pointer;\n",
              "      display: none;\n",
              "      fill: #1967D2;\n",
              "      height: 32px;\n",
              "      padding: 0 0 0 0;\n",
              "      width: 32px;\n",
              "    }\n",
              "\n",
              "    .colab-df-convert:hover {\n",
              "      background-color: #E2EBFA;\n",
              "      box-shadow: 0px 1px 2px rgba(60, 64, 67, 0.3), 0px 1px 3px 1px rgba(60, 64, 67, 0.15);\n",
              "      fill: #174EA6;\n",
              "    }\n",
              "\n",
              "    [theme=dark] .colab-df-convert {\n",
              "      background-color: #3B4455;\n",
              "      fill: #D2E3FC;\n",
              "    }\n",
              "\n",
              "    [theme=dark] .colab-df-convert:hover {\n",
              "      background-color: #434B5C;\n",
              "      box-shadow: 0px 1px 3px 1px rgba(0, 0, 0, 0.15);\n",
              "      filter: drop-shadow(0px 1px 2px rgba(0, 0, 0, 0.3));\n",
              "      fill: #FFFFFF;\n",
              "    }\n",
              "  </style>\n",
              "\n",
              "      <script>\n",
              "        const buttonEl =\n",
              "          document.querySelector('#df-c261b754-f0bf-4e2b-80e8-3cca6c50cd5b button.colab-df-convert');\n",
              "        buttonEl.style.display =\n",
              "          google.colab.kernel.accessAllowed ? 'block' : 'none';\n",
              "\n",
              "        async function convertToInteractive(key) {\n",
              "          const element = document.querySelector('#df-c261b754-f0bf-4e2b-80e8-3cca6c50cd5b');\n",
              "          const dataTable =\n",
              "            await google.colab.kernel.invokeFunction('convertToInteractive',\n",
              "                                                     [key], {});\n",
              "          if (!dataTable) return;\n",
              "\n",
              "          const docLinkHtml = 'Like what you see? Visit the ' +\n",
              "            '<a target=\"_blank\" href=https://colab.research.google.com/notebooks/data_table.ipynb>data table notebook</a>'\n",
              "            + ' to learn more about interactive tables.';\n",
              "          element.innerHTML = '';\n",
              "          dataTable['output_type'] = 'display_data';\n",
              "          await google.colab.output.renderOutput(dataTable, element);\n",
              "          const docLink = document.createElement('div');\n",
              "          docLink.innerHTML = docLinkHtml;\n",
              "          element.appendChild(docLink);\n",
              "        }\n",
              "      </script>\n",
              "    </div>\n",
              "  </div>\n",
              "  "
            ]
          },
          "metadata": {},
          "execution_count": 7
        }
      ]
    },
    {
      "cell_type": "markdown",
      "source": [
        "### **1. Qual é o tamanho, porcentagem de valores ausentes e os tipos das variáveis no conjunto de dados?**"
      ],
      "metadata": {
        "id": "tlBzdv3s3V-F"
      }
    },
    {
      "cell_type": "markdown",
      "source": [
        "Durante a etapa de análise exploratória de dados, é fundamental compreender o conjunto de dados em questão, tais como tamanho, porcentagem de valores ausentes e tipos de variáveis. O tamanho do conjunto de dados é uma informação fundamental para entender a sua extensão e, consequentemente, a sua complexidade. A porcentagem de valores ausentes indica a proporção de dados faltantes em relação ao tamanho do conjunto de dados, o que pode indicar possíveis problemas de coleta de dados ou de armazenamento.  Já os tipos das variáveis indicam a natureza dos dados, o que pode ser útil para entender melhor as informações contidas no conjunto de dados e escolher as melhores técnicas de análise. Essas informações são cruciais para determinar a qualidade dos dados e garantir a precisão das análises realizadas."
      ],
      "metadata": {
        "id": "YCLeuJD7Zu5k"
      }
    },
    {
      "cell_type": "code",
      "source": [
        "table =  Table(title='Informações das Variáveis')\n",
        "table.add_column('Variable_name', justify='center')\n",
        "table.add_column('Data_type', justify='center')\n",
        "table.add_column('Unique_value', justify='center')\n",
        "table.add_column('Missing_percentage', justify='center')\n",
        "for column in df_health.columns:\n",
        "  table.add_row(f'{column}', f'{df_health[column].dtypes}',\n",
        "                f'{len(df_health[column].unique())}',\n",
        "                f'{(df_health[column].isnull().sum())*100}')\n"
      ],
      "metadata": {
        "id": "0b8m5fhqQCwl"
      },
      "execution_count": null,
      "outputs": []
    },
    {
      "cell_type": "code",
      "source": [
        "print(\"Entradas:\\t {}\".format(df_health.shape[0]))\n",
        "print(\"Variáveis:\\t {}\\n\".format(df_health.shape[1]))\n",
        "print(table)"
      ],
      "metadata": {
        "colab": {
          "base_uri": "https://localhost:8080/",
          "height": 527
        },
        "id": "H2APlBcAZTIt",
        "outputId": "de3305a1-4c85-4a94-db10-0b9fc15b6b37"
      },
      "execution_count": null,
      "outputs": [
        {
          "output_type": "display_data",
          "data": {
            "text/plain": [
              "Entradas:        \u001b[1;36m2126\u001b[0m\n"
            ],
            "text/html": [
              "<pre style=\"white-space:pre;overflow-x:auto;line-height:normal;font-family:Menlo,'DejaVu Sans Mono',consolas,'Courier New',monospace\">Entradas:        <span style=\"color: #008080; text-decoration-color: #008080; font-weight: bold\">2126</span>\n",
              "</pre>\n"
            ]
          },
          "metadata": {}
        },
        {
          "output_type": "display_data",
          "data": {
            "text/plain": [
              "Variáveis:       \u001b[1;36m22\u001b[0m\n",
              "\n"
            ],
            "text/html": [
              "<pre style=\"white-space:pre;overflow-x:auto;line-height:normal;font-family:Menlo,'DejaVu Sans Mono',consolas,'Courier New',monospace\">Variáveis:       <span style=\"color: #008080; text-decoration-color: #008080; font-weight: bold\">22</span>\n",
              "\n",
              "</pre>\n"
            ]
          },
          "metadata": {}
        },
        {
          "output_type": "display_data",
          "data": {
            "text/plain": [
              "\u001b[3m                                        Informações das Variáveis                                         \u001b[0m\n",
              "┏━━━━━━━━━━━━━━━━━━━━━━━━━━━━━━━━━━━━━━━━━━━━━━━━━━━━━━━━┳━━━━━━━━━━━┳━━━━━━━━━━━━━━┳━━━━━━━━━━━━━━━━━━━━┓\n",
              "┃\u001b[1m \u001b[0m\u001b[1m                    Variable_name                     \u001b[0m\u001b[1m \u001b[0m┃\u001b[1m \u001b[0m\u001b[1mData_type\u001b[0m\u001b[1m \u001b[0m┃\u001b[1m \u001b[0m\u001b[1mUnique_value\u001b[0m\u001b[1m \u001b[0m┃\u001b[1m \u001b[0m\u001b[1mMissing_percentage\u001b[0m\u001b[1m \u001b[0m┃\n",
              "┡━━━━━━━━━━━━━━━━━━━━━━━━━━━━━━━━━━━━━━━━━━━━━━━━━━━━━━━━╇━━━━━━━━━━━╇━━━━━━━━━━━━━━╇━━━━━━━━━━━━━━━━━━━━┩\n",
              "│                     baseline value                     │  float64  │      48      │         0          │\n",
              "│                     accelerations                      │  float64  │      20      │         0          │\n",
              "│                     fetal_movement                     │  float64  │     102      │         0          │\n",
              "│                  uterine_contractions                  │  float64  │      16      │         0          │\n",
              "│                  light_decelerations                   │  float64  │      16      │         0          │\n",
              "│                  severe_decelerations                  │  float64  │      2       │         0          │\n",
              "│                prolongued_decelerations                │  float64  │      6       │         0          │\n",
              "│            abnormal_short_term_variability             │  float64  │      75      │         0          │\n",
              "│          mean_value_of_short_term_variability          │  float64  │      57      │         0          │\n",
              "│ percentage_of_time_with_abnormal_long_term_variability │  float64  │      87      │         0          │\n",
              "│          mean_value_of_long_term_variability           │  float64  │     249      │         0          │\n",
              "│                    histogram_width                     │  float64  │     154      │         0          │\n",
              "│                     histogram_min                      │  float64  │     109      │         0          │\n",
              "│                     histogram_max                      │  float64  │      86      │         0          │\n",
              "│               histogram_number_of_peaks                │  float64  │      18      │         0          │\n",
              "│               histogram_number_of_zeroes               │  float64  │      9       │         0          │\n",
              "│                     histogram_mode                     │  float64  │      88      │         0          │\n",
              "│                     histogram_mean                     │  float64  │     103      │         0          │\n",
              "│                    histogram_median                    │  float64  │      95      │         0          │\n",
              "│                   histogram_variance                   │  float64  │     133      │         0          │\n",
              "│                   histogram_tendency                   │  float64  │      3       │         0          │\n",
              "│                      fetal_health                      │  float64  │      3       │         0          │\n",
              "└────────────────────────────────────────────────────────┴───────────┴──────────────┴────────────────────┘\n"
            ],
            "text/html": [
              "<pre style=\"white-space:pre;overflow-x:auto;line-height:normal;font-family:Menlo,'DejaVu Sans Mono',consolas,'Courier New',monospace\"><span style=\"font-style: italic\">                                        Informações das Variáveis                                         </span>\n",
              "┏━━━━━━━━━━━━━━━━━━━━━━━━━━━━━━━━━━━━━━━━━━━━━━━━━━━━━━━━┳━━━━━━━━━━━┳━━━━━━━━━━━━━━┳━━━━━━━━━━━━━━━━━━━━┓\n",
              "┃<span style=\"font-weight: bold\">                     Variable_name                      </span>┃<span style=\"font-weight: bold\"> Data_type </span>┃<span style=\"font-weight: bold\"> Unique_value </span>┃<span style=\"font-weight: bold\"> Missing_percentage </span>┃\n",
              "┡━━━━━━━━━━━━━━━━━━━━━━━━━━━━━━━━━━━━━━━━━━━━━━━━━━━━━━━━╇━━━━━━━━━━━╇━━━━━━━━━━━━━━╇━━━━━━━━━━━━━━━━━━━━┩\n",
              "│                     baseline value                     │  float64  │      48      │         0          │\n",
              "│                     accelerations                      │  float64  │      20      │         0          │\n",
              "│                     fetal_movement                     │  float64  │     102      │         0          │\n",
              "│                  uterine_contractions                  │  float64  │      16      │         0          │\n",
              "│                  light_decelerations                   │  float64  │      16      │         0          │\n",
              "│                  severe_decelerations                  │  float64  │      2       │         0          │\n",
              "│                prolongued_decelerations                │  float64  │      6       │         0          │\n",
              "│            abnormal_short_term_variability             │  float64  │      75      │         0          │\n",
              "│          mean_value_of_short_term_variability          │  float64  │      57      │         0          │\n",
              "│ percentage_of_time_with_abnormal_long_term_variability │  float64  │      87      │         0          │\n",
              "│          mean_value_of_long_term_variability           │  float64  │     249      │         0          │\n",
              "│                    histogram_width                     │  float64  │     154      │         0          │\n",
              "│                     histogram_min                      │  float64  │     109      │         0          │\n",
              "│                     histogram_max                      │  float64  │      86      │         0          │\n",
              "│               histogram_number_of_peaks                │  float64  │      18      │         0          │\n",
              "│               histogram_number_of_zeroes               │  float64  │      9       │         0          │\n",
              "│                     histogram_mode                     │  float64  │      88      │         0          │\n",
              "│                     histogram_mean                     │  float64  │     103      │         0          │\n",
              "│                    histogram_median                    │  float64  │      95      │         0          │\n",
              "│                   histogram_variance                   │  float64  │     133      │         0          │\n",
              "│                   histogram_tendency                   │  float64  │      3       │         0          │\n",
              "│                      fetal_health                      │  float64  │      3       │         0          │\n",
              "└────────────────────────────────────────────────────────┴───────────┴──────────────┴────────────────────┘\n",
              "</pre>\n"
            ]
          },
          "metadata": {}
        }
      ]
    },
    {
      "cell_type": "markdown",
      "source": [
        "Com base nas informações fornecidas, podemos observar que:\n",
        "\n",
        "* A maioria dos dados em nosso dataset é do tipo `float`\n",
        "\n",
        "* é possivel indentificar que a variavel `fetal_health` é o nosso atributo target.\n",
        "\n",
        "* Além disso, podemos constatar que não há valores ausentes presentes no conjunto de dados. Isso significa que não há necessidade de realizar limpeza de dados para remover valores ausentes ou preencher valores faltantes. Essa é uma boa notícia, pois nos permite economizar tempo e recursos que seriam necessários para tratar valores ausentes.\n",
        "\n",
        "\n"
      ],
      "metadata": {
        "id": "Y2hLwrYGYUka"
      }
    },
    {
      "cell_type": "markdown",
      "source": [
        "### **2. O dataset está balanceado?**"
      ],
      "metadata": {
        "id": "0NykwoCQNmb2"
      }
    },
    {
      "cell_type": "markdown",
      "source": [
        "Quando se utiliza machine learning, uma das questões mais importantes a serem consideradas é se o conjunto de dados em questão está balanceado ou não. A distribuição dos dados pode ter um grande impacto no desempenho do modelo, e o desequilíbrio dos dados é um problema comum em muitos conjuntos de dados. A questão do equilíbrio dos dados é crucial para determinar as técnicas de modelagem adequadas a serem empregadas e as estratégias de pré-processamento que podem ser necessárias para lidar com esses desequilíbrios."
      ],
      "metadata": {
        "id": "7G1QVVQCYXyP"
      }
    },
    {
      "cell_type": "markdown",
      "source": [
        "* Ao analisarmos o gráfico de distribuição da saúde fetal abaixo, podemos observar que a maioria dos fetos (cerca de 77,85% do total, representando 1655) apresentam-se em estado normal de saúde, enquanto apenas 13,38% dos fetos (295) apresentam suspeita de patologia e 8,28% dos fetos (176) possuem estado patológico confirmado.o. Esses números revelam uma grande disparidade entre as categorias."
      ],
      "metadata": {
        "id": "f9PGnxdat8qe"
      }
    },
    {
      "cell_type": "code",
      "source": [
        "normal= (df_health.fetal_health.value_counts(normalize=True)*100).values[0]\n",
        "suspicious = (df_health.fetal_health.value_counts(normalize=True)*100).values[1]\n",
        "pathological = (df_health.fetal_health.value_counts(normalize=True)*100).values[2]"
      ],
      "metadata": {
        "id": "9e9RHDfyKRB2"
      },
      "execution_count": null,
      "outputs": []
    },
    {
      "cell_type": "code",
      "source": [
        "gray_light = \"#D3D3D3\"\n",
        "blue = '#0073CF'\n",
        "gray_bar = '#333333'\n",
        "fig, ax = plt.subplots(figsize=(10, 6), dpi=72)\n",
        "sns.set_style(\"white\")\n",
        "sns.countplot(data=df_health, x='fetal_health', palette=[gray_light, blue, blue], linewidth=0, edgecolor=\"none\", ax=ax)\n",
        "ax.spines['right'].set_visible(False)\n",
        "ax.spines['top'].set_visible(False)\n",
        "ax.text(-0.1, 2000, 'Distribuição da saúde fetal', fontsize=18, fontweight='medium', va='bottom', color='black')\n",
        "ax.set_ylabel('Quantidade de fetos')\n",
        "ax.set_xlabel('fetal_health')\n",
        "print(f'% normal: {normal.round(2)}\\n% suspeita: {suspicious.round(2)}\\n% Patológica: {pathological.round(2)}')\n",
        "plt.tight_layout()"
      ],
      "metadata": {
        "colab": {
          "base_uri": "https://localhost:8080/",
          "height": 489
        },
        "id": "wRqLd7EZJWE4",
        "outputId": "688ee014-8a93-4b63-b827-8f1af0c4f5b3"
      },
      "execution_count": null,
      "outputs": [
        {
          "output_type": "display_data",
          "data": {
            "text/plain": [
              "% normal: \u001b[1;36m77.85\u001b[0m\n",
              "% suspeita: \u001b[1;36m13.88\u001b[0m\n",
              "% Patológica: \u001b[1;36m8.28\u001b[0m\n"
            ],
            "text/html": [
              "<pre style=\"white-space:pre;overflow-x:auto;line-height:normal;font-family:Menlo,'DejaVu Sans Mono',consolas,'Courier New',monospace\">% normal: <span style=\"color: #008080; text-decoration-color: #008080; font-weight: bold\">77.85</span>\n",
              "% suspeita: <span style=\"color: #008080; text-decoration-color: #008080; font-weight: bold\">13.88</span>\n",
              "% Patológica: <span style=\"color: #008080; text-decoration-color: #008080; font-weight: bold\">8.28</span>\n",
              "</pre>\n"
            ]
          },
          "metadata": {}
        },
        {
          "output_type": "display_data",
          "data": {
            "text/plain": [
              "<Figure size 720x432 with 1 Axes>"
            ],
            "image/png": "[encoded data removed]"
          },
          "metadata": {}
        }
      ]
    },
    {
      "cell_type": "markdown",
      "source": [
        "Portanto, é necessário um tratamento adequado na etapa de pré-processamento de dados para lidar com essa desproporção e garantir que o modelo de machine learning seja capaz de aprender corretamente com as duas classes."
      ],
      "metadata": {
        "id": "hrG1T1tgwUZh"
      }
    },
    {
      "cell_type": "markdown",
      "metadata": {
        "id": "7x4aw1j5wNmn"
      },
      "source": [
        "### **3. Há *outliers* presentes?**\n"
      ]
    },
    {
      "cell_type": "markdown",
      "source": [
        "Ao utilizar o método describe() , é possível ver abaixo, que há indícios da presença de outliers."
      ],
      "metadata": {
        "id": "eObJ2_33D1gq"
      }
    },
    {
      "cell_type": "code",
      "source": [
        "df_health.describe()"
      ],
      "metadata": {
        "colab": {
          "base_uri": "https://localhost:8080/",
          "height": 411
        },
        "id": "m9Z2SSmLYgcF",
        "outputId": "c578be34-e755-4219-c8ca-ab9be8009b07"
      },
      "execution_count": null,
      "outputs": [
        {
          "output_type": "execute_result",
          "data": {
            "text/plain": [
              "       baseline value  accelerations  fetal_movement  uterine_contractions  \\\n",
              "count     2126.000000    2126.000000     2126.000000           2126.000000   \n",
              "mean       133.303857       0.003178        0.009481              0.004366   \n",
              "std          9.840844       0.003866        0.046666              0.002946   \n",
              "min        106.000000       0.000000        0.000000              0.000000   \n",
              "25%        126.000000       0.000000        0.000000              0.002000   \n",
              "50%        133.000000       0.002000        0.000000              0.004000   \n",
              "75%        140.000000       0.006000        0.003000              0.007000   \n",
              "max        160.000000       0.019000        0.481000              0.015000   \n",
              "\n",
              "       light_decelerations  severe_decelerations  prolongued_decelerations  \\\n",
              "count          2126.000000           2126.000000               2126.000000   \n",
              "mean              0.001889              0.000003                  0.000159   \n",
              "std               0.002960              0.000057                  0.000590   \n",
              "min               0.000000              0.000000                  0.000000   \n",
              "25%               0.000000              0.000000                  0.000000   \n",
              "50%               0.000000              0.000000                  0.000000   \n",
              "75%               0.003000              0.000000                  0.000000   \n",
              "max               0.015000              0.001000                  0.005000   \n",
              "\n",
              "       abnormal_short_term_variability  mean_value_of_short_term_variability  \\\n",
              "count                      2126.000000                           2126.000000   \n",
              "mean                         46.990122                              1.332785   \n",
              "std                          17.192814                              0.883241   \n",
              "min                          12.000000                              0.200000   \n",
              "25%                          32.000000                              0.700000   \n",
              "50%                          49.000000                              1.200000   \n",
              "75%                          61.000000                              1.700000   \n",
              "max                          87.000000                              7.000000   \n",
              "\n",
              "       percentage_of_time_with_abnormal_long_term_variability  ...  \\\n",
              "count                                         2126.00000       ...   \n",
              "mean                                             9.84666       ...   \n",
              "std                                             18.39688       ...   \n",
              "min                                              0.00000       ...   \n",
              "25%                                              0.00000       ...   \n",
              "50%                                              0.00000       ...   \n",
              "75%                                             11.00000       ...   \n",
              "max                                             91.00000       ...   \n",
              "\n",
              "       histogram_min  histogram_max  histogram_number_of_peaks  \\\n",
              "count    2126.000000    2126.000000                2126.000000   \n",
              "mean       93.579492     164.025400                   4.068203   \n",
              "std        29.560212      17.944183                   2.949386   \n",
              "min        50.000000     122.000000                   0.000000   \n",
              "25%        67.000000     152.000000                   2.000000   \n",
              "50%        93.000000     162.000000                   3.000000   \n",
              "75%       120.000000     174.000000                   6.000000   \n",
              "max       159.000000     238.000000                  18.000000   \n",
              "\n",
              "       histogram_number_of_zeroes  histogram_mode  histogram_mean  \\\n",
              "count                 2126.000000     2126.000000     2126.000000   \n",
              "mean                     0.323612      137.452023      134.610536   \n",
              "std                      0.706059       16.381289       15.593596   \n",
              "min                      0.000000       60.000000       73.000000   \n",
              "25%                      0.000000      129.000000      125.000000   \n",
              "50%                      0.000000      139.000000      136.000000   \n",
              "75%                      0.000000      148.000000      145.000000   \n",
              "max                     10.000000      187.000000      182.000000   \n",
              "\n",
              "       histogram_median  histogram_variance  histogram_tendency  fetal_health  \n",
              "count       2126.000000         2126.000000         2126.000000   2126.000000  \n",
              "mean         138.090310           18.808090            0.320320      1.304327  \n",
              "std           14.466589           28.977636            0.610829      0.614377  \n",
              "min           77.000000            0.000000           -1.000000      1.000000  \n",
              "25%          129.000000            2.000000            0.000000      1.000000  \n",
              "50%          139.000000            7.000000            0.000000      1.000000  \n",
              "75%          148.000000           24.000000            1.000000      1.000000  \n",
              "max          186.000000          269.000000            1.000000      3.000000  \n",
              "\n",
              "[8 rows x 22 columns]"
            ],
            "text/html": [
              "\n",
              "  <div id=\"df-4258d30c-f7bc-417a-9516-5b132ad4cb8e\">\n",
              "    <div class=\"colab-df-container\">\n",
              "      <div>\n",
              "<style scoped>\n",
              "    .dataframe tbody tr th:only-of-type {\n",
              "        vertical-align: middle;\n",
              "    }\n",
              "\n",
              "    .dataframe tbody tr th {\n",
              "        vertical-align: top;\n",
              "    }\n",
              "\n",
              "    .dataframe thead th {\n",
              "        text-align: right;\n",
              "    }\n",
              "</style>\n",
              "<table border=\"1\" class=\"dataframe\">\n",
              "  <thead>\n",
              "    <tr style=\"text-align: right;\">\n",
              "      <th></th>\n",
              "      <th>baseline value</th>\n",
              "      <th>accelerations</th>\n",
              "      <th>fetal_movement</th>\n",
              "      <th>uterine_contractions</th>\n",
              "      <th>light_decelerations</th>\n",
              "      <th>severe_decelerations</th>\n",
              "      <th>prolongued_decelerations</th>\n",
              "      <th>abnormal_short_term_variability</th>\n",
              "      <th>mean_value_of_short_term_variability</th>\n",
              "      <th>percentage_of_time_with_abnormal_long_term_variability</th>\n",
              "      <th>...</th>\n",
              "      <th>histogram_min</th>\n",
              "      <th>histogram_max</th>\n",
              "      <th>histogram_number_of_peaks</th>\n",
              "      <th>histogram_number_of_zeroes</th>\n",
              "      <th>histogram_mode</th>\n",
              "      <th>histogram_mean</th>\n",
              "      <th>histogram_median</th>\n",
              "      <th>histogram_variance</th>\n",
              "      <th>histogram_tendency</th>\n",
              "      <th>fetal_health</th>\n",
              "    </tr>\n",
              "  </thead>\n",
              "  <tbody>\n",
              "    <tr>\n",
              "      <th>count</th>\n",
              "      <td>2126.000000</td>\n",
              "      <td>2126.000000</td>\n",
              "      <td>2126.000000</td>\n",
              "      <td>2126.000000</td>\n",
              "      <td>2126.000000</td>\n",
              "      <td>2126.000000</td>\n",
              "      <td>2126.000000</td>\n",
              "      <td>2126.000000</td>\n",
              "      <td>2126.000000</td>\n",
              "      <td>2126.00000</td>\n",
              "      <td>...</td>\n",
              "      <td>2126.000000</td>\n",
              "      <td>2126.000000</td>\n",
              "      <td>2126.000000</td>\n",
              "      <td>2126.000000</td>\n",
              "      <td>2126.000000</td>\n",
              "      <td>2126.000000</td>\n",
              "      <td>2126.000000</td>\n",
              "      <td>2126.000000</td>\n",
              "      <td>2126.000000</td>\n",
              "      <td>2126.000000</td>\n",
              "    </tr>\n",
              "    <tr>\n",
              "      <th>mean</th>\n",
              "      <td>133.303857</td>\n",
              "      <td>0.003178</td>\n",
              "      <td>0.009481</td>\n",
              "      <td>0.004366</td>\n",
              "      <td>0.001889</td>\n",
              "      <td>0.000003</td>\n",
              "      <td>0.000159</td>\n",
              "      <td>46.990122</td>\n",
              "      <td>1.332785</td>\n",
              "      <td>9.84666</td>\n",
              "      <td>...</td>\n",
              "      <td>93.579492</td>\n",
              "      <td>164.025400</td>\n",
              "      <td>4.068203</td>\n",
              "      <td>0.323612</td>\n",
              "      <td>137.452023</td>\n",
              "      <td>134.610536</td>\n",
              "      <td>138.090310</td>\n",
              "      <td>18.808090</td>\n",
              "      <td>0.320320</td>\n",
              "      <td>1.304327</td>\n",
              "    </tr>\n",
              "    <tr>\n",
              "      <th>std</th>\n",
              "      <td>9.840844</td>\n",
              "      <td>0.003866</td>\n",
              "      <td>0.046666</td>\n",
              "      <td>0.002946</td>\n",
              "      <td>0.002960</td>\n",
              "      <td>0.000057</td>\n",
              "      <td>0.000590</td>\n",
              "      <td>17.192814</td>\n",
              "      <td>0.883241</td>\n",
              "      <td>18.39688</td>\n",
              "      <td>...</td>\n",
              "      <td>29.560212</td>\n",
              "      <td>17.944183</td>\n",
              "      <td>2.949386</td>\n",
              "      <td>0.706059</td>\n",
              "      <td>16.381289</td>\n",
              "      <td>15.593596</td>\n",
              "      <td>14.466589</td>\n",
              "      <td>28.977636</td>\n",
              "      <td>0.610829</td>\n",
              "      <td>0.614377</td>\n",
              "    </tr>\n",
              "    <tr>\n",
              "      <th>min</th>\n",
              "      <td>106.000000</td>\n",
              "      <td>0.000000</td>\n",
              "      <td>0.000000</td>\n",
              "      <td>0.000000</td>\n",
              "      <td>0.000000</td>\n",
              "      <td>0.000000</td>\n",
              "      <td>0.000000</td>\n",
              "      <td>12.000000</td>\n",
              "      <td>0.200000</td>\n",
              "      <td>0.00000</td>\n",
              "      <td>...</td>\n",
              "      <td>50.000000</td>\n",
              "      <td>122.000000</td>\n",
              "      <td>0.000000</td>\n",
              "      <td>0.000000</td>\n",
              "      <td>60.000000</td>\n",
              "      <td>73.000000</td>\n",
              "      <td>77.000000</td>\n",
              "      <td>0.000000</td>\n",
              "      <td>-1.000000</td>\n",
              "      <td>1.000000</td>\n",
              "    </tr>\n",
              "    <tr>\n",
              "      <th>25%</th>\n",
              "      <td>126.000000</td>\n",
              "      <td>0.000000</td>\n",
              "      <td>0.000000</td>\n",
              "      <td>0.002000</td>\n",
              "      <td>0.000000</td>\n",
              "      <td>0.000000</td>\n",
              "      <td>0.000000</td>\n",
              "      <td>32.000000</td>\n",
              "      <td>0.700000</td>\n",
              "      <td>0.00000</td>\n",
              "      <td>...</td>\n",
              "      <td>67.000000</td>\n",
              "      <td>152.000000</td>\n",
              "      <td>2.000000</td>\n",
              "      <td>0.000000</td>\n",
              "      <td>129.000000</td>\n",
              "      <td>125.000000</td>\n",
              "      <td>129.000000</td>\n",
              "      <td>2.000000</td>\n",
              "      <td>0.000000</td>\n",
              "      <td>1.000000</td>\n",
              "    </tr>\n",
              "    <tr>\n",
              "      <th>50%</th>\n",
              "      <td>133.000000</td>\n",
              "      <td>0.002000</td>\n",
              "      <td>0.000000</td>\n",
              "      <td>0.004000</td>\n",
              "      <td>0.000000</td>\n",
              "      <td>0.000000</td>\n",
              "      <td>0.000000</td>\n",
              "      <td>49.000000</td>\n",
              "      <td>1.200000</td>\n",
              "      <td>0.00000</td>\n",
              "      <td>...</td>\n",
              "      <td>93.000000</td>\n",
              "      <td>162.000000</td>\n",
              "      <td>3.000000</td>\n",
              "      <td>0.000000</td>\n",
              "      <td>139.000000</td>\n",
              "      <td>136.000000</td>\n",
              "      <td>139.000000</td>\n",
              "      <td>7.000000</td>\n",
              "      <td>0.000000</td>\n",
              "      <td>1.000000</td>\n",
              "    </tr>\n",
              "    <tr>\n",
              "      <th>75%</th>\n",
              "      <td>140.000000</td>\n",
              "      <td>0.006000</td>\n",
              "      <td>0.003000</td>\n",
              "      <td>0.007000</td>\n",
              "      <td>0.003000</td>\n",
              "      <td>0.000000</td>\n",
              "      <td>0.000000</td>\n",
              "      <td>61.000000</td>\n",
              "      <td>1.700000</td>\n",
              "      <td>11.00000</td>\n",
              "      <td>...</td>\n",
              "      <td>120.000000</td>\n",
              "      <td>174.000000</td>\n",
              "      <td>6.000000</td>\n",
              "      <td>0.000000</td>\n",
              "      <td>148.000000</td>\n",
              "      <td>145.000000</td>\n",
              "      <td>148.000000</td>\n",
              "      <td>24.000000</td>\n",
              "      <td>1.000000</td>\n",
              "      <td>1.000000</td>\n",
              "    </tr>\n",
              "    <tr>\n",
              "      <th>max</th>\n",
              "      <td>160.000000</td>\n",
              "      <td>0.019000</td>\n",
              "      <td>0.481000</td>\n",
              "      <td>0.015000</td>\n",
              "      <td>0.015000</td>\n",
              "      <td>0.001000</td>\n",
              "      <td>0.005000</td>\n",
              "      <td>87.000000</td>\n",
              "      <td>7.000000</td>\n",
              "      <td>91.00000</td>\n",
              "      <td>...</td>\n",
              "      <td>159.000000</td>\n",
              "      <td>238.000000</td>\n",
              "      <td>18.000000</td>\n",
              "      <td>10.000000</td>\n",
              "      <td>187.000000</td>\n",
              "      <td>182.000000</td>\n",
              "      <td>186.000000</td>\n",
              "      <td>269.000000</td>\n",
              "      <td>1.000000</td>\n",
              "      <td>3.000000</td>\n",
              "    </tr>\n",
              "  </tbody>\n",
              "</table>\n",
              "<p>8 rows × 22 columns</p>\n",
              "</div>\n",
              "      <button class=\"colab-df-convert\" onclick=\"convertToInteractive('df-4258d30c-f7bc-417a-9516-5b132ad4cb8e')\"\n",
              "              title=\"Convert this dataframe to an interactive table.\"\n",
              "              style=\"display:none;\">\n",
              "        \n",
              "  <svg xmlns=\"http://www.w3.org/2000/svg\" height=\"24px\"viewBox=\"0 0 24 24\"\n",
              "       width=\"24px\">\n",
              "    <path d=\"M0 0h24v24H0V0z\" fill=\"none\"/>\n",
              "    <path d=\"M18.56 5.44l.94 2.06.94-2.06 2.06-.94-2.06-.94-.94-2.06-.94 2.06-2.06.94zm-11 1L8.5 8.5l.94-2.06 2.06-.94-2.06-.94L8.5 2.5l-.94 2.06-2.06.94zm10 10l.94 2.06.94-2.06 2.06-.94-2.06-.94-.94-2.06-.94 2.06-2.06.94z\"/><path d=\"M17.41 7.96l-1.37-1.37c-.4-.4-.92-.59-1.43-.59-.52 0-1.04.2-1.43.59L10.3 9.45l-7.72 7.72c-.78.78-.78 2.05 0 2.83L4 21.41c.39.39.9.59 1.41.59.51 0 1.02-.2 1.41-.59l7.78-7.78 2.81-2.81c.8-.78.8-2.07 0-2.86zM5.41 20L4 18.59l7.72-7.72 1.47 1.35L5.41 20z\"/>\n",
              "  </svg>\n",
              "      </button>\n",
              "      \n",
              "  <style>\n",
              "    .colab-df-container {\n",
              "      display:flex;\n",
              "      flex-wrap:wrap;\n",
              "      gap: 12px;\n",
              "    }\n",
              "\n",
              "    .colab-df-convert {\n",
              "      background-color: #E8F0FE;\n",
              "      border: none;\n",
              "      border-radius: 50%;\n",
              "      cursor: pointer;\n",
              "      display: none;\n",
              "      fill: #1967D2;\n",
              "      height: 32px;\n",
              "      padding: 0 0 0 0;\n",
              "      width: 32px;\n",
              "    }\n",
              "\n",
              "    .colab-df-convert:hover {\n",
              "      background-color: #E2EBFA;\n",
              "      box-shadow: 0px 1px 2px rgba(60, 64, 67, 0.3), 0px 1px 3px 1px rgba(60, 64, 67, 0.15);\n",
              "      fill: #174EA6;\n",
              "    }\n",
              "\n",
              "    [theme=dark] .colab-df-convert {\n",
              "      background-color: #3B4455;\n",
              "      fill: #D2E3FC;\n",
              "    }\n",
              "\n",
              "    [theme=dark] .colab-df-convert:hover {\n",
              "      background-color: #434B5C;\n",
              "      box-shadow: 0px 1px 3px 1px rgba(0, 0, 0, 0.15);\n",
              "      filter: drop-shadow(0px 1px 2px rgba(0, 0, 0, 0.3));\n",
              "      fill: #FFFFFF;\n",
              "    }\n",
              "  </style>\n",
              "\n",
              "      <script>\n",
              "        const buttonEl =\n",
              "          document.querySelector('#df-4258d30c-f7bc-417a-9516-5b132ad4cb8e button.colab-df-convert');\n",
              "        buttonEl.style.display =\n",
              "          google.colab.kernel.accessAllowed ? 'block' : 'none';\n",
              "\n",
              "        async function convertToInteractive(key) {\n",
              "          const element = document.querySelector('#df-4258d30c-f7bc-417a-9516-5b132ad4cb8e');\n",
              "          const dataTable =\n",
              "            await google.colab.kernel.invokeFunction('convertToInteractive',\n",
              "                                                     [key], {});\n",
              "          if (!dataTable) return;\n",
              "\n",
              "          const docLinkHtml = 'Like what you see? Visit the ' +\n",
              "            '<a target=\"_blank\" href=https://colab.research.google.com/notebooks/data_table.ipynb>data table notebook</a>'\n",
              "            + ' to learn more about interactive tables.';\n",
              "          element.innerHTML = '';\n",
              "          dataTable['output_type'] = 'display_data';\n",
              "          await google.colab.output.renderOutput(dataTable, element);\n",
              "          const docLink = document.createElement('div');\n",
              "          docLink.innerHTML = docLinkHtml;\n",
              "          element.appendChild(docLink);\n",
              "        }\n",
              "      </script>\n",
              "    </div>\n",
              "  </div>\n",
              "  "
            ]
          },
          "metadata": {},
          "execution_count": 53
        }
      ]
    },
    {
      "cell_type": "markdown",
      "source": [
        "Para validar esta hipótese, realizamos uma análise dos boxplots das colunas `accelerations` e `light_decelerations`. Durante a análise,  conseguimos ver claramente que temos outliers presentes."
      ],
      "metadata": {
        "id": "yyvUaf1cFKYv"
      }
    },
    {
      "cell_type": "code",
      "source": [
        "fig, ax = plt.subplots(1,2,figsize=(15,4), dpi=72)\n",
        "sns.boxplot(data=df_health, x=\"accelerations\", ax=ax[0],color=blue)\n",
        "sns.boxplot(data=df_health, x=\"light_decelerations\",  ax=ax[1], color=blue)\n",
        "plt.tight_layout()"
      ],
      "metadata": {
        "colab": {
          "base_uri": "https://localhost:8080/",
          "height": 297
        },
        "id": "GMpRJVoBURwC",
        "outputId": "1d109971-3959-4f0d-edca-97083891e644"
      },
      "execution_count": null,
      "outputs": [
        {
          "output_type": "display_data",
          "data": {
            "text/plain": [
              "<Figure size 1080x288 with 2 Axes>"
            ],
            "image/png": "[encoded data removed]"
          },
          "metadata": {}
        }
      ]
    },
    {
      "cell_type": "markdown",
      "source": [
        "##  Pré-processamento de dados\n",
        "\n",
        "Com base nos resultados da análise exploratória, podemos direcionar nossos esforços para o pré-processamento dos dados. Essa etapa inclui uma série de atividades que têm como objetivo preparar os dados para modelagem, tornando-os mais adequados para uso em modelos e algoritmos. As atividades que realizamos incluem limpeza dos dados, remoção de valores ausentes, padronização das unidades de medida, normalização e codificação de variáveis e entre outros."
      ],
      "metadata": {
        "id": "-ZK0KhjkVswL"
      }
    },
    {
      "cell_type": "code",
      "source": [
        "from sklearn.preprocessing import StandardScaler\n",
        "from sklearn.model_selection import train_test_split\n",
        "from imblearn.over_sampling import ADASYN"
      ],
      "metadata": {
        "id": "OY20TtfGgRkt"
      },
      "execution_count": null,
      "outputs": []
    },
    {
      "cell_type": "markdown",
      "source": [
        "### **Padronização(Z-score)**\n",
        "\n",
        "A padronização Z-score é uma técnica estatística utilizada para transformar uma distribuição de dados em uma distribuição com média zero e desvio padrão unitário. Essa técnica é aplicável a diversos tipos de dados e tem como principal objetivo permitir a comparação direta entre eles, independentemente de sua distribuição original.\n",
        "\n",
        "A ideia por trás da padronização Z-score é que, ao converter os dados para um formato padrão, é possível avaliar o quão distante cada observação está da média da distribuição. Esse valor é chamado de \"escore Z\" e representa o número de desvios padrão pelo qual a observação está afastada da média. Dessa forma, é possível identificar quais observações estão mais próximas ou mais distantes da média e comparar a distribuição de dados de forma mais precisa.\n",
        "\n",
        "## $$\n",
        "z = \\frac{x - \\mu}{\\sigma}\n",
        "$$"
      ],
      "metadata": {
        "id": "MkJcR0EGtZ82"
      }
    },
    {
      "cell_type": "code",
      "source": [
        "scaler = StandardScaler()\n",
        "df_clean = scaler.fit_transform(df_health.iloc[:, :21].copy())"
      ],
      "metadata": {
        "id": "snDfrW13aT4q"
      },
      "execution_count": null,
      "outputs": []
    },
    {
      "cell_type": "markdown",
      "source": [
        "### **Separando entre Treino e Teste**\n",
        "Para garantir um balanceamento adequado dos dados, é fundamental realizar a separação dos mesmos em conjuntos de treino e teste. Essa etapa preliminar é crucial, uma vez que permite avaliar se o balanceamento foi realizado de forma adequada."
      ],
      "metadata": {
        "id": "83b4YEUI0cFU"
      }
    },
    {
      "cell_type": "markdown",
      "metadata": {
        "id": "5fGFrVtYKW3w"
      },
      "source": [
        "* aqui podemos fazer o split no conjunto de treino para o conjunto de teste com Scikit-Learn."
      ]
    },
    {
      "cell_type": "code",
      "source": [
        "features = df_clean.copy()\n",
        "target = df_health.fetal_health.values.copy()\n",
        "x_train, x_test, y_train, y_test = train_test_split(features, target, test_size=0.25, random_state=0, stratify=target, shuffle=True)"
      ],
      "metadata": {
        "id": "cDGTTpGPubMC"
      },
      "execution_count": null,
      "outputs": []
    },
    {
      "cell_type": "code",
      "source": [
        "print(x_train.shape)\n",
        "print(x_test.shape)\n",
        "print(y_train.shape)\n",
        "print(y_test.shape)"
      ],
      "metadata": {
        "colab": {
          "base_uri": "https://localhost:8080/",
          "height": 82
        },
        "id": "5KQfOg_VfEYr",
        "outputId": "73bb90fb-68c1-4278-bc19-584d7a785813"
      },
      "execution_count": null,
      "outputs": [
        {
          "output_type": "display_data",
          "data": {
            "text/plain": [
              "\u001b[1m(\u001b[0m\u001b[1;36m1594\u001b[0m, \u001b[1;36m21\u001b[0m\u001b[1m)\u001b[0m\n"
            ],
            "text/html": [
              "<pre style=\"white-space:pre;overflow-x:auto;line-height:normal;font-family:Menlo,'DejaVu Sans Mono',consolas,'Courier New',monospace\"><span style=\"font-weight: bold\">(</span><span style=\"color: #008080; text-decoration-color: #008080; font-weight: bold\">1594</span>, <span style=\"color: #008080; text-decoration-color: #008080; font-weight: bold\">21</span><span style=\"font-weight: bold\">)</span>\n",
              "</pre>\n"
            ]
          },
          "metadata": {}
        },
        {
          "output_type": "display_data",
          "data": {
            "text/plain": [
              "\u001b[1m(\u001b[0m\u001b[1;36m532\u001b[0m, \u001b[1;36m21\u001b[0m\u001b[1m)\u001b[0m\n"
            ],
            "text/html": [
              "<pre style=\"white-space:pre;overflow-x:auto;line-height:normal;font-family:Menlo,'DejaVu Sans Mono',consolas,'Courier New',monospace\"><span style=\"font-weight: bold\">(</span><span style=\"color: #008080; text-decoration-color: #008080; font-weight: bold\">532</span>, <span style=\"color: #008080; text-decoration-color: #008080; font-weight: bold\">21</span><span style=\"font-weight: bold\">)</span>\n",
              "</pre>\n"
            ]
          },
          "metadata": {}
        },
        {
          "output_type": "display_data",
          "data": {
            "text/plain": [
              "\u001b[1m(\u001b[0m\u001b[1;36m1594\u001b[0m,\u001b[1m)\u001b[0m\n"
            ],
            "text/html": [
              "<pre style=\"white-space:pre;overflow-x:auto;line-height:normal;font-family:Menlo,'DejaVu Sans Mono',consolas,'Courier New',monospace\"><span style=\"font-weight: bold\">(</span><span style=\"color: #008080; text-decoration-color: #008080; font-weight: bold\">1594</span>,<span style=\"font-weight: bold\">)</span>\n",
              "</pre>\n"
            ]
          },
          "metadata": {}
        },
        {
          "output_type": "display_data",
          "data": {
            "text/plain": [
              "\u001b[1m(\u001b[0m\u001b[1;36m532\u001b[0m,\u001b[1m)\u001b[0m\n"
            ],
            "text/html": [
              "<pre style=\"white-space:pre;overflow-x:auto;line-height:normal;font-family:Menlo,'DejaVu Sans Mono',consolas,'Courier New',monospace\"><span style=\"font-weight: bold\">(</span><span style=\"color: #008080; text-decoration-color: #008080; font-weight: bold\">532</span>,<span style=\"font-weight: bold\">)</span>\n",
              "</pre>\n"
            ]
          },
          "metadata": {}
        }
      ]
    },
    {
      "cell_type": "markdown",
      "source": [
        "### **Balanceamento dos dados(ADASYN)**\n",
        "\n",
        "ADASYN (Adaptive Synthetic Sampling) é uma técnica de balanceamento de dados utilizada no pré-processamento de dados em Machine Learning.\n",
        "\n",
        "O problema de desbalanceamento de dados ocorre quando uma das classes de um conjunto de dados tem muito mais amostras do que a outra(s). Isso pode ser um problema para modelos de Machine learning, pois pode levar a uma predição imprecisa para a classe minoritária. ADASYN é uma técnica que pode ajudar a resolver esse problema.\n",
        "\n",
        "A técnica funciona gerando amostras sintéticas para a classe minoritária, com base nas amostras existentes, de modo a equilibrar a distribuição de classes. A geração dessas amostras sintéticas é feita de forma adaptativa, ou seja, a quantidade de amostras sintéticas geradas para cada amostra original é proporcional à sua distância para os seus k vizinhos mais próximos pertencentes à classe majoritária.\n",
        "\n",
        "\n",
        "\n",
        "\n",
        "\n",
        "\n",
        "\n",
        "\n",
        "\n",
        "\n",
        "\n",
        "\n",
        "\n",
        "\n",
        "\n",
        "\n",
        "\n",
        "\n",
        "\n",
        "\n"
      ],
      "metadata": {
        "id": "LM9UEw-UVtWQ"
      }
    },
    {
      "cell_type": "markdown",
      "source": [
        "* Usando a biblioteca imblearn é possível aplicar facilmente essa técnica de balanceamento de dados."
      ],
      "metadata": {
        "id": "vKApY25rNoSs"
      }
    },
    {
      "cell_type": "code",
      "source": [
        "from imblearn.over_sampling import ADASYN\n",
        "adasyn = ADASYN()\n",
        "x_ada, y_ada = adasyn.fit_resample(x_train, y_train)"
      ],
      "metadata": {
        "id": "S92EYLkyxah3"
      },
      "execution_count": null,
      "outputs": []
    },
    {
      "cell_type": "code",
      "source": [
        "fig, ax = plt.subplots(figsize=(10, 6), dpi=72)\n",
        "sns.set_style(\"white\")\n",
        "sns.countplot(x=y_ada, palette=['#0073CF', \"#D3D3D3\"], linewidth=0, edgecolor=\"none\", ax=ax)\n",
        "ax.spines['right'].set_visible(False)\n",
        "ax.spines['top'].set_visible(False)\n",
        "ax.text(-0, 1500, 'Distribuição da saúde fetal' ,\n",
        "        fontsize=20, fontweight='medium',va='bottom', color='black')\n",
        "ax.set_ylabel('Quantidade de ocorrências')\n",
        "ax.set_xlabel('Classe')\n",
        "plt.tight_layout()"
      ],
      "metadata": {
        "colab": {
          "base_uri": "https://localhost:8080/",
          "height": 433
        },
        "id": "Rnz8NCiTgSlq",
        "outputId": "c5653290-53ac-4d49-d82e-11675e3c20bb"
      },
      "execution_count": null,
      "outputs": [
        {
          "output_type": "display_data",
          "data": {
            "text/plain": [
              "<Figure size 720x432 with 1 Axes>"
            ],
            "image/png": "[encoded data removed]"
          },
          "metadata": {}
        }
      ]
    },
    {
      "cell_type": "code",
      "source": [
        "train = pd.DataFrame(x_ada, columns=df_health.columns[:21])\n",
        "train['target'] = y_ada"
      ],
      "metadata": {
        "id": "_BgZnsOnlg6E"
      },
      "execution_count": null,
      "outputs": []
    },
    {
      "cell_type": "markdown",
      "source": [
        "##  Modelagem de Machine Learning\n",
        "\n",
        "Depois do pré-processamento de dados, o próximo passo é a criação do modelo. Isso envolve a escolha do algoritmo de Machine learning mais adequado para o problema em questão e a definição dos parâmetros do modelo. A criação do modelo também inclui a divisão dos dados em conjuntos de treinamento e teste e a validação do modelo. Durante a validação, é importante garantir que o modelo esteja performando bem e que não esteja sofrendo de overfitting ou underfitting.\n"
      ],
      "metadata": {
        "id": "HsI9ZEenhXGq"
      }
    },
    {
      "cell_type": "markdown",
      "source": [
        "### Classificação com PyCaret - Wine\n",
        "\n",
        "PyCaret é uma biblioteca open-source e low-code de Python que tem como objetivo reduzir o templo entre o ciclo entre uma hipótese e insights em experimentos com Machine Learning.\n",
        "\n",
        "O PyCaret possibilita que Cientistas de Dados completem experimentos de ponta a ponta de forma rápida e eficiente. Em comparação com outras bibliotecas do tipo, o PyCaret traz o diferencial de ser low-code, isto é, demanda pouco código para que opere de forma robusta."
      ],
      "metadata": {
        "id": "90F5JEbejAzj"
      }
    },
    {
      "cell_type": "markdown",
      "metadata": {
        "id": "fmGpfNTkmTiv"
      },
      "source": [
        "### Configurando o ambiente no PyCaret\n",
        "Seguindo as boas práticas para desenvolvimento, vamos importar somente os módulos que vamos precisar, ao invés de importar a biblioteca inteira para utilizar meia dúzia de módulos."
      ]
    },
    {
      "cell_type": "code",
      "source": [
        "#@title\n",
        "# instalando a biblioteca\n",
        "!pip install pycaret -q"
      ],
      "metadata": {
        "colab": {
          "base_uri": "https://localhost:8080/"
        },
        "id": "o47T9ZdfjAFD",
        "outputId": "5dd64fd1-2917-45c0-c9cb-8eb25933b186"
      },
      "execution_count": null,
      "outputs": [
        {
          "output_type": "stream",
          "name": "stdout",
          "text": [
            "\u001b[2K     \u001b[90m━━━━━━━━━━━━━━━━━━━━━━━━━━━━━━━━━━━━━━\u001b[0m \u001b[32m481.8/481.8 kB\u001b[0m \u001b[31m12.5 MB/s\u001b[0m eta \u001b[36m0:00:00\u001b[0m\n",
            "\u001b[2K     \u001b[90m━━━━━━━━━━━━━━━━━━━━━━━━━━━━━━━━━━━━━━━━\u001b[0m \u001b[32m16.9/16.9 MB\u001b[0m \u001b[31m42.1 MB/s\u001b[0m eta \u001b[36m0:00:00\u001b[0m\n",
            "\u001b[2K     \u001b[90m━━━━━━━━━━━━━━━━━━━━━━━━━━━━━━━━━━━━━━\u001b[0m \u001b[32m212.5/212.5 kB\u001b[0m \u001b[31m21.1 MB/s\u001b[0m eta \u001b[36m0:00:00\u001b[0m\n",
            "\u001b[2K     \u001b[90m━━━━━━━━━━━━━━━━━━━━━━━━━━━━━━━━━━━━━━━━\u001b[0m \u001b[32m81.2/81.2 kB\u001b[0m \u001b[31m9.3 MB/s\u001b[0m eta \u001b[36m0:00:00\u001b[0m\n",
            "\u001b[2K     \u001b[90m━━━━━━━━━━━━━━━━━━━━━━━━━━━━━━━━━━━━━━━━\u001b[0m \u001b[32m1.8/1.8 MB\u001b[0m \u001b[31m66.5 MB/s\u001b[0m eta \u001b[36m0:00:00\u001b[0m\n",
            "\u001b[2K     \u001b[90m━━━━━━━━━━━━━━━━━━━━━━━━━━━━━━━━━━━━━━━━\u001b[0m \u001b[32m79.9/79.9 MB\u001b[0m \u001b[31m7.8 MB/s\u001b[0m eta \u001b[36m0:00:00\u001b[0m\n",
            "\u001b[2K     \u001b[90m━━━━━━━━━━━━━━━━━━━━━━━━━━━━━━━━━━━━━━\u001b[0m \u001b[32m105.8/105.8 kB\u001b[0m \u001b[31m11.4 MB/s\u001b[0m eta \u001b[36m0:00:00\u001b[0m\n",
            "\u001b[2K     \u001b[90m━━━━━━━━━━━━━━━━━━━━━━━━━━━━━━━━━━━━━━━━\u001b[0m \u001b[32m44.0/44.0 kB\u001b[0m \u001b[31m4.3 MB/s\u001b[0m eta \u001b[36m0:00:00\u001b[0m\n",
            "\u001b[2K     \u001b[90m━━━━━━━━━━━━━━━━━━━━━━━━━━━━━━━━━━━━━━\u001b[0m \u001b[32m150.0/150.0 kB\u001b[0m \u001b[31m16.1 MB/s\u001b[0m eta \u001b[36m0:00:00\u001b[0m\n",
            "\u001b[?25h  Preparing metadata (setup.py) ... \u001b[?25l\u001b[?25hdone\n",
            "\u001b[2K     \u001b[90m━━━━━━━━━━━━━━━━━━━━━━━━━━━━━━━━━━━━━━━━\u001b[0m \u001b[32m46.4/46.4 kB\u001b[0m \u001b[31m4.2 MB/s\u001b[0m eta \u001b[36m0:00:00\u001b[0m\n",
            "\u001b[?25h  Installing build dependencies ... \u001b[?25l\u001b[?25hdone\n",
            "  Getting requirements to build wheel ... \u001b[?25l\u001b[?25hdone\n",
            "  Preparing metadata (pyproject.toml) ... \u001b[?25l\u001b[?25hdone\n",
            "\u001b[2K     \u001b[90m━━━━━━━━━━━━━━━━━━━━━━━━━━━━━━━━━━━━━━━━\u001b[0m \u001b[32m1.6/1.6 MB\u001b[0m \u001b[31m46.0 MB/s\u001b[0m eta \u001b[36m0:00:00\u001b[0m\n",
            "\u001b[2K     \u001b[90m━━━━━━━━━━━━━━━━━━━━━━━━━━━━━━━━━━━━━━━\u001b[0m \u001b[32m135.6/135.6 kB\u001b[0m \u001b[31m9.0 MB/s\u001b[0m eta \u001b[36m0:00:00\u001b[0m\n",
            "\u001b[2K     \u001b[90m━━━━━━━━━━━━━━━━━━━━━━━━━━━━━━━━━━━━━━\u001b[0m \u001b[32m185.2/185.2 kB\u001b[0m \u001b[31m16.0 MB/s\u001b[0m eta \u001b[36m0:00:00\u001b[0m\n",
            "\u001b[2K     \u001b[90m━━━━━━━━━━━━━━━━━━━━━━━━━━━━━━━━━━━━━━━━\u001b[0m \u001b[32m10.2/10.2 MB\u001b[0m \u001b[31m57.3 MB/s\u001b[0m eta \u001b[36m0:00:00\u001b[0m\n",
            "\u001b[2K     \u001b[90m━━━━━━━━━━━━━━━━━━━━━━━━━━━━━━━━━━━━━━\u001b[0m \u001b[32m115.2/115.2 kB\u001b[0m \u001b[31m13.4 MB/s\u001b[0m eta \u001b[36m0:00:00\u001b[0m\n",
            "\u001b[?25h  Building wheel for plotly-resampler (pyproject.toml) ... \u001b[?25l\u001b[?25hdone\n",
            "  Building wheel for pyod (setup.py) ... \u001b[?25l\u001b[?25hdone\n"
          ]
        }
      ]
    },
    {
      "cell_type": "code",
      "source": [
        "# importando os pacotes necessários\n",
        "from pycaret.classification import setup, compare_models, models, create_model, predict_model\n",
        "from pycaret.classification import tune_model, plot_model, evaluate_model, finalize_model\n",
        "from pycaret.classification import save_model, load_model"
      ],
      "metadata": {
        "id": "JCbu8faXkPUA"
      },
      "execution_count": null,
      "outputs": []
    },
    {
      "cell_type": "markdown",
      "source": [
        "* Aqui, vamos criar um classificador (clf), e vamos passar os dados, e a variável alvo."
      ],
      "metadata": {
        "id": "gNZdSXXNkaE_"
      }
    },
    {
      "cell_type": "code",
      "source": [
        "clf = setup(data=train, target='target')"
      ],
      "metadata": {
        "colab": {
          "base_uri": "https://localhost:8080/",
          "height": 676
        },
        "id": "JAiPp-CCkdUR",
        "outputId": "b209e61c-adfb-44ad-a241-134ecd2a180b"
      },
      "execution_count": null,
      "outputs": [
        {
          "output_type": "display_data",
          "data": {
            "text/plain": [
              "<pandas.io.formats.style.Styler at 0x7f774609e470>"
            ],
            "text/html": [
              "<style type=\"text/css\">\n",
              "#T_0ab3c_row9_col1 {\n",
              "  background-color: lightgreen;\n",
              "}\n",
              "</style>\n",
              "<table id=\"T_0ab3c\" class=\"dataframe\">\n",
              "  <thead>\n",
              "    <tr>\n",
              "      <th class=\"blank level0\" >&nbsp;</th>\n",
              "      <th id=\"T_0ab3c_level0_col0\" class=\"col_heading level0 col0\" >Description</th>\n",
              "      <th id=\"T_0ab3c_level0_col1\" class=\"col_heading level0 col1\" >Value</th>\n",
              "    </tr>\n",
              "  </thead>\n",
              "  <tbody>\n",
              "    <tr>\n",
              "      <th id=\"T_0ab3c_level0_row0\" class=\"row_heading level0 row0\" >0</th>\n",
              "      <td id=\"T_0ab3c_row0_col0\" class=\"data row0 col0\" >Session id</td>\n",
              "      <td id=\"T_0ab3c_row0_col1\" class=\"data row0 col1\" >6025</td>\n",
              "    </tr>\n",
              "    <tr>\n",
              "      <th id=\"T_0ab3c_level0_row1\" class=\"row_heading level0 row1\" >1</th>\n",
              "      <td id=\"T_0ab3c_row1_col0\" class=\"data row1 col0\" >Target</td>\n",
              "      <td id=\"T_0ab3c_row1_col1\" class=\"data row1 col1\" >target</td>\n",
              "    </tr>\n",
              "    <tr>\n",
              "      <th id=\"T_0ab3c_level0_row2\" class=\"row_heading level0 row2\" >2</th>\n",
              "      <td id=\"T_0ab3c_row2_col0\" class=\"data row2 col0\" >Target type</td>\n",
              "      <td id=\"T_0ab3c_row2_col1\" class=\"data row2 col1\" >Multiclass</td>\n",
              "    </tr>\n",
              "    <tr>\n",
              "      <th id=\"T_0ab3c_level0_row3\" class=\"row_heading level0 row3\" >3</th>\n",
              "      <td id=\"T_0ab3c_row3_col0\" class=\"data row3 col0\" >Target mapping</td>\n",
              "      <td id=\"T_0ab3c_row3_col1\" class=\"data row3 col1\" >1.0: 0, 2.0: 1, 3.0: 2</td>\n",
              "    </tr>\n",
              "    <tr>\n",
              "      <th id=\"T_0ab3c_level0_row4\" class=\"row_heading level0 row4\" >4</th>\n",
              "      <td id=\"T_0ab3c_row4_col0\" class=\"data row4 col0\" >Original data shape</td>\n",
              "      <td id=\"T_0ab3c_row4_col1\" class=\"data row4 col1\" >(3693, 22)</td>\n",
              "    </tr>\n",
              "    <tr>\n",
              "      <th id=\"T_0ab3c_level0_row5\" class=\"row_heading level0 row5\" >5</th>\n",
              "      <td id=\"T_0ab3c_row5_col0\" class=\"data row5 col0\" >Transformed data shape</td>\n",
              "      <td id=\"T_0ab3c_row5_col1\" class=\"data row5 col1\" >(3693, 22)</td>\n",
              "    </tr>\n",
              "    <tr>\n",
              "      <th id=\"T_0ab3c_level0_row6\" class=\"row_heading level0 row6\" >6</th>\n",
              "      <td id=\"T_0ab3c_row6_col0\" class=\"data row6 col0\" >Transformed train set shape</td>\n",
              "      <td id=\"T_0ab3c_row6_col1\" class=\"data row6 col1\" >(2585, 22)</td>\n",
              "    </tr>\n",
              "    <tr>\n",
              "      <th id=\"T_0ab3c_level0_row7\" class=\"row_heading level0 row7\" >7</th>\n",
              "      <td id=\"T_0ab3c_row7_col0\" class=\"data row7 col0\" >Transformed test set shape</td>\n",
              "      <td id=\"T_0ab3c_row7_col1\" class=\"data row7 col1\" >(1108, 22)</td>\n",
              "    </tr>\n",
              "    <tr>\n",
              "      <th id=\"T_0ab3c_level0_row8\" class=\"row_heading level0 row8\" >8</th>\n",
              "      <td id=\"T_0ab3c_row8_col0\" class=\"data row8 col0\" >Numeric features</td>\n",
              "      <td id=\"T_0ab3c_row8_col1\" class=\"data row8 col1\" >21</td>\n",
              "    </tr>\n",
              "    <tr>\n",
              "      <th id=\"T_0ab3c_level0_row9\" class=\"row_heading level0 row9\" >9</th>\n",
              "      <td id=\"T_0ab3c_row9_col0\" class=\"data row9 col0\" >Preprocess</td>\n",
              "      <td id=\"T_0ab3c_row9_col1\" class=\"data row9 col1\" >True</td>\n",
              "    </tr>\n",
              "    <tr>\n",
              "      <th id=\"T_0ab3c_level0_row10\" class=\"row_heading level0 row10\" >10</th>\n",
              "      <td id=\"T_0ab3c_row10_col0\" class=\"data row10 col0\" >Imputation type</td>\n",
              "      <td id=\"T_0ab3c_row10_col1\" class=\"data row10 col1\" >simple</td>\n",
              "    </tr>\n",
              "    <tr>\n",
              "      <th id=\"T_0ab3c_level0_row11\" class=\"row_heading level0 row11\" >11</th>\n",
              "      <td id=\"T_0ab3c_row11_col0\" class=\"data row11 col0\" >Numeric imputation</td>\n",
              "      <td id=\"T_0ab3c_row11_col1\" class=\"data row11 col1\" >mean</td>\n",
              "    </tr>\n",
              "    <tr>\n",
              "      <th id=\"T_0ab3c_level0_row12\" class=\"row_heading level0 row12\" >12</th>\n",
              "      <td id=\"T_0ab3c_row12_col0\" class=\"data row12 col0\" >Categorical imputation</td>\n",
              "      <td id=\"T_0ab3c_row12_col1\" class=\"data row12 col1\" >mode</td>\n",
              "    </tr>\n",
              "    <tr>\n",
              "      <th id=\"T_0ab3c_level0_row13\" class=\"row_heading level0 row13\" >13</th>\n",
              "      <td id=\"T_0ab3c_row13_col0\" class=\"data row13 col0\" >Fold Generator</td>\n",
              "      <td id=\"T_0ab3c_row13_col1\" class=\"data row13 col1\" >StratifiedKFold</td>\n",
              "    </tr>\n",
              "    <tr>\n",
              "      <th id=\"T_0ab3c_level0_row14\" class=\"row_heading level0 row14\" >14</th>\n",
              "      <td id=\"T_0ab3c_row14_col0\" class=\"data row14 col0\" >Fold Number</td>\n",
              "      <td id=\"T_0ab3c_row14_col1\" class=\"data row14 col1\" >10</td>\n",
              "    </tr>\n",
              "    <tr>\n",
              "      <th id=\"T_0ab3c_level0_row15\" class=\"row_heading level0 row15\" >15</th>\n",
              "      <td id=\"T_0ab3c_row15_col0\" class=\"data row15 col0\" >CPU Jobs</td>\n",
              "      <td id=\"T_0ab3c_row15_col1\" class=\"data row15 col1\" >-1</td>\n",
              "    </tr>\n",
              "    <tr>\n",
              "      <th id=\"T_0ab3c_level0_row16\" class=\"row_heading level0 row16\" >16</th>\n",
              "      <td id=\"T_0ab3c_row16_col0\" class=\"data row16 col0\" >Use GPU</td>\n",
              "      <td id=\"T_0ab3c_row16_col1\" class=\"data row16 col1\" >False</td>\n",
              "    </tr>\n",
              "    <tr>\n",
              "      <th id=\"T_0ab3c_level0_row17\" class=\"row_heading level0 row17\" >17</th>\n",
              "      <td id=\"T_0ab3c_row17_col0\" class=\"data row17 col0\" >Log Experiment</td>\n",
              "      <td id=\"T_0ab3c_row17_col1\" class=\"data row17 col1\" >False</td>\n",
              "    </tr>\n",
              "    <tr>\n",
              "      <th id=\"T_0ab3c_level0_row18\" class=\"row_heading level0 row18\" >18</th>\n",
              "      <td id=\"T_0ab3c_row18_col0\" class=\"data row18 col0\" >Experiment Name</td>\n",
              "      <td id=\"T_0ab3c_row18_col1\" class=\"data row18 col1\" >clf-default-name</td>\n",
              "    </tr>\n",
              "    <tr>\n",
              "      <th id=\"T_0ab3c_level0_row19\" class=\"row_heading level0 row19\" >19</th>\n",
              "      <td id=\"T_0ab3c_row19_col0\" class=\"data row19 col0\" >USI</td>\n",
              "      <td id=\"T_0ab3c_row19_col1\" class=\"data row19 col1\" >61be</td>\n",
              "    </tr>\n",
              "  </tbody>\n",
              "</table>\n"
            ]
          },
          "metadata": {}
        }
      ]
    },
    {
      "cell_type": "markdown",
      "metadata": {
        "id": "pXm2ancBnbpx"
      },
      "source": [
        "### Comparando os Modelos\n",
        "Vamos comparar diferentes modelos, para verificar a performance deles em nosso conjunto de dados, baseado na métrica de avaliação de nossa escolha.\n",
        "\n",
        "Aqui, vamos preferir utilizar o recall como métrica de avaliação."
      ]
    },
    {
      "cell_type": "code",
      "source": [
        "best = compare_models(sort='Recall', n_select=5)"
      ],
      "metadata": {
        "colab": {
          "base_uri": "https://localhost:8080/",
          "height": 519,
          "referenced_widgets": [
            "18a21a6e76d3406d986bb3c1f5c94fe4",
            "1fc8cfb881144f39908a4029e740f14b",
            "9f1433259b9042cf816dd8bc1001957d",
            "846d2cf274dc4b45b34d39a82bc0855c",
            "f5e79a1f6a024c1b92506d53d2982738",
            "85f50a18ee674251b408ac983b502729",
            "b0bb27cd18cc4eeea4abe0258c33acbd",
            "45fedbc9d3ef40db84b01a3e532955c2",
            "e859e62fcc8c4efaaccca3eadb027d21",
            "ca8925ec19764d4bbb79031d1b4dc8bb",
            "c9b7f37ef8324fecaf0728e94537bcb3"
          ]
        },
        "id": "gv88ykyNmGyZ",
        "outputId": "e0e4ba50-d90d-4733-da8f-42615a6d7c0b"
      },
      "execution_count": null,
      "outputs": [
        {
          "output_type": "display_data",
          "data": {
            "text/plain": [
              "<IPython.core.display.HTML object>"
            ],
            "text/html": []
          },
          "metadata": {}
        },
        {
          "output_type": "display_data",
          "data": {
            "text/plain": [
              "<pandas.io.formats.style.Styler at 0x7f774901b040>"
            ],
            "text/html": [
              "<style type=\"text/css\">\n",
              "#T_106de th {\n",
              "  text-align: left;\n",
              "}\n",
              "#T_106de_row0_col0, #T_106de_row0_col2, #T_106de_row1_col0, #T_106de_row1_col1, #T_106de_row1_col3, #T_106de_row1_col4, #T_106de_row1_col5, #T_106de_row1_col6, #T_106de_row1_col7, #T_106de_row2_col0, #T_106de_row2_col1, #T_106de_row2_col2, #T_106de_row2_col3, #T_106de_row2_col4, #T_106de_row2_col5, #T_106de_row2_col6, #T_106de_row2_col7, #T_106de_row3_col0, #T_106de_row3_col1, #T_106de_row3_col2, #T_106de_row3_col3, #T_106de_row3_col4, #T_106de_row3_col5, #T_106de_row3_col6, #T_106de_row3_col7, #T_106de_row4_col0, #T_106de_row4_col1, #T_106de_row4_col2, #T_106de_row4_col3, #T_106de_row4_col4, #T_106de_row4_col5, #T_106de_row4_col6, #T_106de_row4_col7, #T_106de_row5_col0, #T_106de_row5_col1, #T_106de_row5_col2, #T_106de_row5_col3, #T_106de_row5_col4, #T_106de_row5_col5, #T_106de_row5_col6, #T_106de_row5_col7, #T_106de_row6_col0, #T_106de_row6_col1, #T_106de_row6_col2, #T_106de_row6_col3, #T_106de_row6_col4, #T_106de_row6_col5, #T_106de_row6_col6, #T_106de_row6_col7, #T_106de_row7_col0, #T_106de_row7_col1, #T_106de_row7_col2, #T_106de_row7_col3, #T_106de_row7_col4, #T_106de_row7_col5, #T_106de_row7_col6, #T_106de_row7_col7, #T_106de_row8_col0, #T_106de_row8_col1, #T_106de_row8_col2, #T_106de_row8_col3, #T_106de_row8_col4, #T_106de_row8_col5, #T_106de_row8_col6, #T_106de_row8_col7, #T_106de_row9_col0, #T_106de_row9_col1, #T_106de_row9_col2, #T_106de_row9_col3, #T_106de_row9_col4, #T_106de_row9_col5, #T_106de_row9_col6, #T_106de_row9_col7, #T_106de_row10_col0, #T_106de_row10_col1, #T_106de_row10_col2, #T_106de_row10_col3, #T_106de_row10_col4, #T_106de_row10_col5, #T_106de_row10_col6, #T_106de_row10_col7, #T_106de_row11_col0, #T_106de_row11_col1, #T_106de_row11_col2, #T_106de_row11_col3, #T_106de_row11_col4, #T_106de_row11_col5, #T_106de_row11_col6, #T_106de_row11_col7, #T_106de_row12_col0, #T_106de_row12_col1, #T_106de_row12_col2, #T_106de_row12_col3, #T_106de_row12_col4, #T_106de_row12_col5, #T_106de_row12_col6, #T_106de_row12_col7, #T_106de_row13_col0, #T_106de_row13_col1, #T_106de_row13_col2, #T_106de_row13_col3, #T_106de_row13_col4, #T_106de_row13_col5, #T_106de_row13_col6, #T_106de_row13_col7, #T_106de_row14_col0, #T_106de_row14_col1, #T_106de_row14_col2, #T_106de_row14_col3, #T_106de_row14_col4, #T_106de_row14_col5, #T_106de_row14_col6, #T_106de_row14_col7 {\n",
              "  text-align: left;\n",
              "}\n",
              "#T_106de_row0_col1, #T_106de_row0_col3, #T_106de_row0_col4, #T_106de_row0_col5, #T_106de_row0_col6, #T_106de_row0_col7, #T_106de_row1_col2 {\n",
              "  text-align: left;\n",
              "  background-color: yellow;\n",
              "}\n",
              "#T_106de_row0_col8, #T_106de_row1_col8, #T_106de_row2_col8, #T_106de_row3_col8, #T_106de_row4_col8, #T_106de_row5_col8, #T_106de_row6_col8, #T_106de_row7_col8, #T_106de_row8_col8, #T_106de_row9_col8, #T_106de_row10_col8, #T_106de_row12_col8, #T_106de_row13_col8, #T_106de_row14_col8 {\n",
              "  text-align: left;\n",
              "  background-color: lightgrey;\n",
              "}\n",
              "#T_106de_row11_col8 {\n",
              "  text-align: left;\n",
              "  background-color: yellow;\n",
              "  background-color: lightgrey;\n",
              "}\n",
              "</style>\n",
              "<table id=\"T_106de\" class=\"dataframe\">\n",
              "  <thead>\n",
              "    <tr>\n",
              "      <th class=\"blank level0\" >&nbsp;</th>\n",
              "      <th id=\"T_106de_level0_col0\" class=\"col_heading level0 col0\" >Model</th>\n",
              "      <th id=\"T_106de_level0_col1\" class=\"col_heading level0 col1\" >Accuracy</th>\n",
              "      <th id=\"T_106de_level0_col2\" class=\"col_heading level0 col2\" >AUC</th>\n",
              "      <th id=\"T_106de_level0_col3\" class=\"col_heading level0 col3\" >Recall</th>\n",
              "      <th id=\"T_106de_level0_col4\" class=\"col_heading level0 col4\" >Prec.</th>\n",
              "      <th id=\"T_106de_level0_col5\" class=\"col_heading level0 col5\" >F1</th>\n",
              "      <th id=\"T_106de_level0_col6\" class=\"col_heading level0 col6\" >Kappa</th>\n",
              "      <th id=\"T_106de_level0_col7\" class=\"col_heading level0 col7\" >MCC</th>\n",
              "      <th id=\"T_106de_level0_col8\" class=\"col_heading level0 col8\" >TT (Sec)</th>\n",
              "    </tr>\n",
              "  </thead>\n",
              "  <tbody>\n",
              "    <tr>\n",
              "      <th id=\"T_106de_level0_row0\" class=\"row_heading level0 row0\" >et</th>\n",
              "      <td id=\"T_106de_row0_col0\" class=\"data row0 col0\" >Extra Trees Classifier</td>\n",
              "      <td id=\"T_106de_row0_col1\" class=\"data row0 col1\" >0.9803</td>\n",
              "      <td id=\"T_106de_row0_col2\" class=\"data row0 col2\" >0.9962</td>\n",
              "      <td id=\"T_106de_row0_col3\" class=\"data row0 col3\" >0.9803</td>\n",
              "      <td id=\"T_106de_row0_col4\" class=\"data row0 col4\" >0.9810</td>\n",
              "      <td id=\"T_106de_row0_col5\" class=\"data row0 col5\" >0.9802</td>\n",
              "      <td id=\"T_106de_row0_col6\" class=\"data row0 col6\" >0.9704</td>\n",
              "      <td id=\"T_106de_row0_col7\" class=\"data row0 col7\" >0.9708</td>\n",
              "      <td id=\"T_106de_row0_col8\" class=\"data row0 col8\" >0.5900</td>\n",
              "    </tr>\n",
              "    <tr>\n",
              "      <th id=\"T_106de_level0_row1\" class=\"row_heading level0 row1\" >lightgbm</th>\n",
              "      <td id=\"T_106de_row1_col0\" class=\"data row1 col0\" >Light Gradient Boosting Machine</td>\n",
              "      <td id=\"T_106de_row1_col1\" class=\"data row1 col1\" >0.9779</td>\n",
              "      <td id=\"T_106de_row1_col2\" class=\"data row1 col2\" >0.9983</td>\n",
              "      <td id=\"T_106de_row1_col3\" class=\"data row1 col3\" >0.9779</td>\n",
              "      <td id=\"T_106de_row1_col4\" class=\"data row1 col4\" >0.9785</td>\n",
              "      <td id=\"T_106de_row1_col5\" class=\"data row1 col5\" >0.9779</td>\n",
              "      <td id=\"T_106de_row1_col6\" class=\"data row1 col6\" >0.9669</td>\n",
              "      <td id=\"T_106de_row1_col7\" class=\"data row1 col7\" >0.9672</td>\n",
              "      <td id=\"T_106de_row1_col8\" class=\"data row1 col8\" >1.2950</td>\n",
              "    </tr>\n",
              "    <tr>\n",
              "      <th id=\"T_106de_level0_row2\" class=\"row_heading level0 row2\" >xgboost</th>\n",
              "      <td id=\"T_106de_row2_col0\" class=\"data row2 col0\" >Extreme Gradient Boosting</td>\n",
              "      <td id=\"T_106de_row2_col1\" class=\"data row2 col1\" >0.9745</td>\n",
              "      <td id=\"T_106de_row2_col2\" class=\"data row2 col2\" >0.9978</td>\n",
              "      <td id=\"T_106de_row2_col3\" class=\"data row2 col3\" >0.9745</td>\n",
              "      <td id=\"T_106de_row2_col4\" class=\"data row2 col4\" >0.9749</td>\n",
              "      <td id=\"T_106de_row2_col5\" class=\"data row2 col5\" >0.9745</td>\n",
              "      <td id=\"T_106de_row2_col6\" class=\"data row2 col6\" >0.9617</td>\n",
              "      <td id=\"T_106de_row2_col7\" class=\"data row2 col7\" >0.9619</td>\n",
              "      <td id=\"T_106de_row2_col8\" class=\"data row2 col8\" >1.6200</td>\n",
              "    </tr>\n",
              "    <tr>\n",
              "      <th id=\"T_106de_level0_row3\" class=\"row_heading level0 row3\" >rf</th>\n",
              "      <td id=\"T_106de_row3_col0\" class=\"data row3 col0\" >Random Forest Classifier</td>\n",
              "      <td id=\"T_106de_row3_col1\" class=\"data row3 col1\" >0.9718</td>\n",
              "      <td id=\"T_106de_row3_col2\" class=\"data row3 col2\" >0.9973</td>\n",
              "      <td id=\"T_106de_row3_col3\" class=\"data row3 col3\" >0.9718</td>\n",
              "      <td id=\"T_106de_row3_col4\" class=\"data row3 col4\" >0.9724</td>\n",
              "      <td id=\"T_106de_row3_col5\" class=\"data row3 col5\" >0.9717</td>\n",
              "      <td id=\"T_106de_row3_col6\" class=\"data row3 col6\" >0.9576</td>\n",
              "      <td id=\"T_106de_row3_col7\" class=\"data row3 col7\" >0.9580</td>\n",
              "      <td id=\"T_106de_row3_col8\" class=\"data row3 col8\" >1.0240</td>\n",
              "    </tr>\n",
              "    <tr>\n",
              "      <th id=\"T_106de_level0_row4\" class=\"row_heading level0 row4\" >gbc</th>\n",
              "      <td id=\"T_106de_row4_col0\" class=\"data row4 col0\" >Gradient Boosting Classifier</td>\n",
              "      <td id=\"T_106de_row4_col1\" class=\"data row4 col1\" >0.9613</td>\n",
              "      <td id=\"T_106de_row4_col2\" class=\"data row4 col2\" >0.9965</td>\n",
              "      <td id=\"T_106de_row4_col3\" class=\"data row4 col3\" >0.9613</td>\n",
              "      <td id=\"T_106de_row4_col4\" class=\"data row4 col4\" >0.9620</td>\n",
              "      <td id=\"T_106de_row4_col5\" class=\"data row4 col5\" >0.9613</td>\n",
              "      <td id=\"T_106de_row4_col6\" class=\"data row4 col6\" >0.9420</td>\n",
              "      <td id=\"T_106de_row4_col7\" class=\"data row4 col7\" >0.9423</td>\n",
              "      <td id=\"T_106de_row4_col8\" class=\"data row4 col8\" >3.8290</td>\n",
              "    </tr>\n",
              "    <tr>\n",
              "      <th id=\"T_106de_level0_row5\" class=\"row_heading level0 row5\" >dt</th>\n",
              "      <td id=\"T_106de_row5_col0\" class=\"data row5 col0\" >Decision Tree Classifier</td>\n",
              "      <td id=\"T_106de_row5_col1\" class=\"data row5 col1\" >0.9455</td>\n",
              "      <td id=\"T_106de_row5_col2\" class=\"data row5 col2\" >0.9595</td>\n",
              "      <td id=\"T_106de_row5_col3\" class=\"data row5 col3\" >0.9455</td>\n",
              "      <td id=\"T_106de_row5_col4\" class=\"data row5 col4\" >0.9457</td>\n",
              "      <td id=\"T_106de_row5_col5\" class=\"data row5 col5\" >0.9453</td>\n",
              "      <td id=\"T_106de_row5_col6\" class=\"data row5 col6\" >0.9182</td>\n",
              "      <td id=\"T_106de_row5_col7\" class=\"data row5 col7\" >0.9184</td>\n",
              "      <td id=\"T_106de_row5_col8\" class=\"data row5 col8\" >0.1030</td>\n",
              "    </tr>\n",
              "    <tr>\n",
              "      <th id=\"T_106de_level0_row6\" class=\"row_heading level0 row6\" >knn</th>\n",
              "      <td id=\"T_106de_row6_col0\" class=\"data row6 col0\" >K Neighbors Classifier</td>\n",
              "      <td id=\"T_106de_row6_col1\" class=\"data row6 col1\" >0.9400</td>\n",
              "      <td id=\"T_106de_row6_col2\" class=\"data row6 col2\" >0.9836</td>\n",
              "      <td id=\"T_106de_row6_col3\" class=\"data row6 col3\" >0.9400</td>\n",
              "      <td id=\"T_106de_row6_col4\" class=\"data row6 col4\" >0.9458</td>\n",
              "      <td id=\"T_106de_row6_col5\" class=\"data row6 col5\" >0.9395</td>\n",
              "      <td id=\"T_106de_row6_col6\" class=\"data row6 col6\" >0.9101</td>\n",
              "      <td id=\"T_106de_row6_col7\" class=\"data row6 col7\" >0.9132</td>\n",
              "      <td id=\"T_106de_row6_col8\" class=\"data row6 col8\" >0.1030</td>\n",
              "    </tr>\n",
              "    <tr>\n",
              "      <th id=\"T_106de_level0_row7\" class=\"row_heading level0 row7\" >ada</th>\n",
              "      <td id=\"T_106de_row7_col0\" class=\"data row7 col0\" >Ada Boost Classifier</td>\n",
              "      <td id=\"T_106de_row7_col1\" class=\"data row7 col1\" >0.8893</td>\n",
              "      <td id=\"T_106de_row7_col2\" class=\"data row7 col2\" >0.9540</td>\n",
              "      <td id=\"T_106de_row7_col3\" class=\"data row7 col3\" >0.8893</td>\n",
              "      <td id=\"T_106de_row7_col4\" class=\"data row7 col4\" >0.8924</td>\n",
              "      <td id=\"T_106de_row7_col5\" class=\"data row7 col5\" >0.8899</td>\n",
              "      <td id=\"T_106de_row7_col6\" class=\"data row7 col6\" >0.8340</td>\n",
              "      <td id=\"T_106de_row7_col7\" class=\"data row7 col7\" >0.8350</td>\n",
              "      <td id=\"T_106de_row7_col8\" class=\"data row7 col8\" >0.4410</td>\n",
              "    </tr>\n",
              "    <tr>\n",
              "      <th id=\"T_106de_level0_row8\" class=\"row_heading level0 row8\" >lr</th>\n",
              "      <td id=\"T_106de_row8_col0\" class=\"data row8 col0\" >Logistic Regression</td>\n",
              "      <td id=\"T_106de_row8_col1\" class=\"data row8 col1\" >0.8851</td>\n",
              "      <td id=\"T_106de_row8_col2\" class=\"data row8 col2\" >0.9667</td>\n",
              "      <td id=\"T_106de_row8_col3\" class=\"data row8 col3\" >0.8851</td>\n",
              "      <td id=\"T_106de_row8_col4\" class=\"data row8 col4\" >0.8890</td>\n",
              "      <td id=\"T_106de_row8_col5\" class=\"data row8 col5\" >0.8858</td>\n",
              "      <td id=\"T_106de_row8_col6\" class=\"data row8 col6\" >0.8276</td>\n",
              "      <td id=\"T_106de_row8_col7\" class=\"data row8 col7\" >0.8288</td>\n",
              "      <td id=\"T_106de_row8_col8\" class=\"data row8 col8\" >0.7650</td>\n",
              "    </tr>\n",
              "    <tr>\n",
              "      <th id=\"T_106de_level0_row9\" class=\"row_heading level0 row9\" >lda</th>\n",
              "      <td id=\"T_106de_row9_col0\" class=\"data row9 col0\" >Linear Discriminant Analysis</td>\n",
              "      <td id=\"T_106de_row9_col1\" class=\"data row9 col1\" >0.8569</td>\n",
              "      <td id=\"T_106de_row9_col2\" class=\"data row9 col2\" >0.9559</td>\n",
              "      <td id=\"T_106de_row9_col3\" class=\"data row9 col3\" >0.8569</td>\n",
              "      <td id=\"T_106de_row9_col4\" class=\"data row9 col4\" >0.8673</td>\n",
              "      <td id=\"T_106de_row9_col5\" class=\"data row9 col5\" >0.8579</td>\n",
              "      <td id=\"T_106de_row9_col6\" class=\"data row9 col6\" >0.7854</td>\n",
              "      <td id=\"T_106de_row9_col7\" class=\"data row9 col7\" >0.7888</td>\n",
              "      <td id=\"T_106de_row9_col8\" class=\"data row9 col8\" >0.0980</td>\n",
              "    </tr>\n",
              "    <tr>\n",
              "      <th id=\"T_106de_level0_row10\" class=\"row_heading level0 row10\" >svm</th>\n",
              "      <td id=\"T_106de_row10_col0\" class=\"data row10 col0\" >SVM - Linear Kernel</td>\n",
              "      <td id=\"T_106de_row10_col1\" class=\"data row10 col1\" >0.8561</td>\n",
              "      <td id=\"T_106de_row10_col2\" class=\"data row10 col2\" >0.0000</td>\n",
              "      <td id=\"T_106de_row10_col3\" class=\"data row10 col3\" >0.8561</td>\n",
              "      <td id=\"T_106de_row10_col4\" class=\"data row10 col4\" >0.8605</td>\n",
              "      <td id=\"T_106de_row10_col5\" class=\"data row10 col5\" >0.8559</td>\n",
              "      <td id=\"T_106de_row10_col6\" class=\"data row10 col6\" >0.7841</td>\n",
              "      <td id=\"T_106de_row10_col7\" class=\"data row10 col7\" >0.7864</td>\n",
              "      <td id=\"T_106de_row10_col8\" class=\"data row10 col8\" >0.0980</td>\n",
              "    </tr>\n",
              "    <tr>\n",
              "      <th id=\"T_106de_level0_row11\" class=\"row_heading level0 row11\" >ridge</th>\n",
              "      <td id=\"T_106de_row11_col0\" class=\"data row11 col0\" >Ridge Classifier</td>\n",
              "      <td id=\"T_106de_row11_col1\" class=\"data row11 col1\" >0.8503</td>\n",
              "      <td id=\"T_106de_row11_col2\" class=\"data row11 col2\" >0.0000</td>\n",
              "      <td id=\"T_106de_row11_col3\" class=\"data row11 col3\" >0.8503</td>\n",
              "      <td id=\"T_106de_row11_col4\" class=\"data row11 col4\" >0.8609</td>\n",
              "      <td id=\"T_106de_row11_col5\" class=\"data row11 col5\" >0.8510</td>\n",
              "      <td id=\"T_106de_row11_col6\" class=\"data row11 col6\" >0.7754</td>\n",
              "      <td id=\"T_106de_row11_col7\" class=\"data row11 col7\" >0.7794</td>\n",
              "      <td id=\"T_106de_row11_col8\" class=\"data row11 col8\" >0.0690</td>\n",
              "    </tr>\n",
              "    <tr>\n",
              "      <th id=\"T_106de_level0_row12\" class=\"row_heading level0 row12\" >qda</th>\n",
              "      <td id=\"T_106de_row12_col0\" class=\"data row12 col0\" >Quadratic Discriminant Analysis</td>\n",
              "      <td id=\"T_106de_row12_col1\" class=\"data row12 col1\" >0.7052</td>\n",
              "      <td id=\"T_106de_row12_col2\" class=\"data row12 col2\" >0.9328</td>\n",
              "      <td id=\"T_106de_row12_col3\" class=\"data row12 col3\" >0.7052</td>\n",
              "      <td id=\"T_106de_row12_col4\" class=\"data row12 col4\" >0.8266</td>\n",
              "      <td id=\"T_106de_row12_col5\" class=\"data row12 col5\" >0.7016</td>\n",
              "      <td id=\"T_106de_row12_col6\" class=\"data row12 col6\" >0.5599</td>\n",
              "      <td id=\"T_106de_row12_col7\" class=\"data row12 col7\" >0.6177</td>\n",
              "      <td id=\"T_106de_row12_col8\" class=\"data row12 col8\" >0.0910</td>\n",
              "    </tr>\n",
              "    <tr>\n",
              "      <th id=\"T_106de_level0_row13\" class=\"row_heading level0 row13\" >nb</th>\n",
              "      <td id=\"T_106de_row13_col0\" class=\"data row13 col0\" >Naive Bayes</td>\n",
              "      <td id=\"T_106de_row13_col1\" class=\"data row13 col1\" >0.6723</td>\n",
              "      <td id=\"T_106de_row13_col2\" class=\"data row13 col2\" >0.8807</td>\n",
              "      <td id=\"T_106de_row13_col3\" class=\"data row13 col3\" >0.6723</td>\n",
              "      <td id=\"T_106de_row13_col4\" class=\"data row13 col4\" >0.7874</td>\n",
              "      <td id=\"T_106de_row13_col5\" class=\"data row13 col5\" >0.6707</td>\n",
              "      <td id=\"T_106de_row13_col6\" class=\"data row13 col6\" >0.5108</td>\n",
              "      <td id=\"T_106de_row13_col7\" class=\"data row13 col7\" >0.5647</td>\n",
              "      <td id=\"T_106de_row13_col8\" class=\"data row13 col8\" >0.0840</td>\n",
              "    </tr>\n",
              "    <tr>\n",
              "      <th id=\"T_106de_level0_row14\" class=\"row_heading level0 row14\" >dummy</th>\n",
              "      <td id=\"T_106de_row14_col0\" class=\"data row14 col0\" >Dummy Classifier</td>\n",
              "      <td id=\"T_106de_row14_col1\" class=\"data row14 col1\" >0.3381</td>\n",
              "      <td id=\"T_106de_row14_col2\" class=\"data row14 col2\" >0.5000</td>\n",
              "      <td id=\"T_106de_row14_col3\" class=\"data row14 col3\" >0.3381</td>\n",
              "      <td id=\"T_106de_row14_col4\" class=\"data row14 col4\" >0.1143</td>\n",
              "      <td id=\"T_106de_row14_col5\" class=\"data row14 col5\" >0.1709</td>\n",
              "      <td id=\"T_106de_row14_col6\" class=\"data row14 col6\" >0.0000</td>\n",
              "      <td id=\"T_106de_row14_col7\" class=\"data row14 col7\" >0.0000</td>\n",
              "      <td id=\"T_106de_row14_col8\" class=\"data row14 col8\" >0.0880</td>\n",
              "    </tr>\n",
              "  </tbody>\n",
              "</table>\n"
            ]
          },
          "metadata": {}
        },
        {
          "output_type": "display_data",
          "data": {
            "text/plain": [
              "Processing:   0%|          | 0/69 [00:00<?, ?it/s]"
            ],
            "application/vnd.jupyter.widget-view+json": {
              "version_major": 2,
              "version_minor": 0,
              "model_id": "18a21a6e76d3406d986bb3c1f5c94fe4"
            }
          },
          "metadata": {
            "application/vnd.jupyter.widget-view+json": {
              "colab": {
                "custom_widget_manager": {
                  "url": "https://ssl.gstatic.com/colaboratory-static/widgets/colab-cdn-widget-manager/b3e629b1971e1542/manager.min.js"
                }
              }
            }
          }
        },
        {
          "output_type": "display_data",
          "data": {
            "text/plain": [
              "<IPython.core.display.HTML object>"
            ],
            "text/html": []
          },
          "metadata": {}
        }
      ]
    },
    {
      "cell_type": "code",
      "source": [
        "# verificando o melhor modelo\n",
        "print(best[0])"
      ],
      "metadata": {
        "colab": {
          "base_uri": "https://localhost:8080/",
          "height": 131
        },
        "id": "mrxPA9W5nTAL",
        "outputId": "063a5f18-0332-4bd9-facf-cdfe422789b5"
      },
      "execution_count": null,
      "outputs": [
        {
          "output_type": "display_data",
          "data": {
            "text/plain": [
              "\u001b[1;35mExtraTreesClassifier\u001b[0m\u001b[1m(\u001b[0m\u001b[33mbootstrap\u001b[0m=\u001b[3;91mFalse\u001b[0m, \u001b[33mccp_alpha\u001b[0m=\u001b[1;36m0\u001b[0m\u001b[1;36m.0\u001b[0m, \u001b[33mclass_weight\u001b[0m=\u001b[3;35mNone\u001b[0m,\n",
              "                     \u001b[33mcriterion\u001b[0m=\u001b[32m'gini'\u001b[0m, \u001b[33mmax_depth\u001b[0m=\u001b[3;35mNone\u001b[0m, \u001b[33mmax_features\u001b[0m=\u001b[32m'sqrt'\u001b[0m,\n",
              "                     \u001b[33mmax_leaf_nodes\u001b[0m=\u001b[3;35mNone\u001b[0m, \u001b[33mmax_samples\u001b[0m=\u001b[3;35mNone\u001b[0m,\n",
              "                     \u001b[33mmin_impurity_decrease\u001b[0m=\u001b[1;36m0\u001b[0m\u001b[1;36m.0\u001b[0m, \u001b[33mmin_samples_leaf\u001b[0m=\u001b[1;36m1\u001b[0m,\n",
              "                     \u001b[33mmin_samples_split\u001b[0m=\u001b[1;36m2\u001b[0m, \u001b[33mmin_weight_fraction_leaf\u001b[0m=\u001b[1;36m0\u001b[0m\u001b[1;36m.0\u001b[0m,\n",
              "                     \u001b[33mn_estimators\u001b[0m=\u001b[1;36m100\u001b[0m, \u001b[33mn_jobs\u001b[0m=\u001b[1;36m-1\u001b[0m, \u001b[33moob_score\u001b[0m=\u001b[3;91mFalse\u001b[0m,\n",
              "                     \u001b[33mrandom_state\u001b[0m=\u001b[1;36m6025\u001b[0m, \u001b[33mverbose\u001b[0m=\u001b[1;36m0\u001b[0m, \u001b[33mwarm_start\u001b[0m=\u001b[3;91mFalse\u001b[0m\u001b[1m)\u001b[0m\n"
            ],
            "text/html": [
              "<pre style=\"white-space:pre;overflow-x:auto;line-height:normal;font-family:Menlo,'DejaVu Sans Mono',consolas,'Courier New',monospace\"><span style=\"color: #800080; text-decoration-color: #800080; font-weight: bold\">ExtraTreesClassifier</span><span style=\"font-weight: bold\">(</span><span style=\"color: #808000; text-decoration-color: #808000\">bootstrap</span>=<span style=\"color: #ff0000; text-decoration-color: #ff0000; font-style: italic\">False</span>, <span style=\"color: #808000; text-decoration-color: #808000\">ccp_alpha</span>=<span style=\"color: #008080; text-decoration-color: #008080; font-weight: bold\">0.0</span>, <span style=\"color: #808000; text-decoration-color: #808000\">class_weight</span>=<span style=\"color: #800080; text-decoration-color: #800080; font-style: italic\">None</span>,\n",
              "                     <span style=\"color: #808000; text-decoration-color: #808000\">criterion</span>=<span style=\"color: #008000; text-decoration-color: #008000\">'gini'</span>, <span style=\"color: #808000; text-decoration-color: #808000\">max_depth</span>=<span style=\"color: #800080; text-decoration-color: #800080; font-style: italic\">None</span>, <span style=\"color: #808000; text-decoration-color: #808000\">max_features</span>=<span style=\"color: #008000; text-decoration-color: #008000\">'sqrt'</span>,\n",
              "                     <span style=\"color: #808000; text-decoration-color: #808000\">max_leaf_nodes</span>=<span style=\"color: #800080; text-decoration-color: #800080; font-style: italic\">None</span>, <span style=\"color: #808000; text-decoration-color: #808000\">max_samples</span>=<span style=\"color: #800080; text-decoration-color: #800080; font-style: italic\">None</span>,\n",
              "                     <span style=\"color: #808000; text-decoration-color: #808000\">min_impurity_decrease</span>=<span style=\"color: #008080; text-decoration-color: #008080; font-weight: bold\">0.0</span>, <span style=\"color: #808000; text-decoration-color: #808000\">min_samples_leaf</span>=<span style=\"color: #008080; text-decoration-color: #008080; font-weight: bold\">1</span>,\n",
              "                     <span style=\"color: #808000; text-decoration-color: #808000\">min_samples_split</span>=<span style=\"color: #008080; text-decoration-color: #008080; font-weight: bold\">2</span>, <span style=\"color: #808000; text-decoration-color: #808000\">min_weight_fraction_leaf</span>=<span style=\"color: #008080; text-decoration-color: #008080; font-weight: bold\">0.0</span>,\n",
              "                     <span style=\"color: #808000; text-decoration-color: #808000\">n_estimators</span>=<span style=\"color: #008080; text-decoration-color: #008080; font-weight: bold\">100</span>, <span style=\"color: #808000; text-decoration-color: #808000\">n_jobs</span>=<span style=\"color: #008080; text-decoration-color: #008080; font-weight: bold\">-1</span>, <span style=\"color: #808000; text-decoration-color: #808000\">oob_score</span>=<span style=\"color: #ff0000; text-decoration-color: #ff0000; font-style: italic\">False</span>,\n",
              "                     <span style=\"color: #808000; text-decoration-color: #808000\">random_state</span>=<span style=\"color: #008080; text-decoration-color: #008080; font-weight: bold\">6025</span>, <span style=\"color: #808000; text-decoration-color: #808000\">verbose</span>=<span style=\"color: #008080; text-decoration-color: #008080; font-weight: bold\">0</span>, <span style=\"color: #808000; text-decoration-color: #808000\">warm_start</span>=<span style=\"color: #ff0000; text-decoration-color: #ff0000; font-style: italic\">False</span><span style=\"font-weight: bold\">)</span>\n",
              "</pre>\n"
            ]
          },
          "metadata": {}
        }
      ]
    },
    {
      "cell_type": "markdown",
      "metadata": {
        "id": "l1q3XSGQr96_"
      },
      "source": [
        "### Hyperparameter Tuning\n",
        "\n",
        "Utilizando o PyCaret também é extremamente fácil fazer a otimização dos parâmetros. Basta utilizar o método `tune_model` passando como parâmetro o modelo a ser otimizado e a métrica pela qual você quer otimizar."
      ]
    },
    {
      "cell_type": "code",
      "source": [
        "tuned_et = tune_model(best[0], optimize='Recall')"
      ],
      "metadata": {
        "colab": {
          "base_uri": "https://localhost:8080/",
          "height": 493,
          "referenced_widgets": [
            "2736b02cd21b41dfbc12560199c2f24c",
            "ef8e25caef5e42ba893cf92ebceed0b6",
            "fb1953bf0a1d457eaf9e3617d3c33255",
            "ee9b3da381c843e2b238deee19815e07",
            "cade7caafe874b87aadfd749c11483f5",
            "90a2bfdc8b044acb90a9c2595bf260d4",
            "3cce007cc5624873945936272440cbf5",
            "901cfd1863ab4ab389f011b809e4be14",
            "8961900bbeba4ed58192465edc06e965",
            "46402a862e3044ccbf5b09ede70f264c",
            "6f66edf3300e406ba774a0b17ae2d45f"
          ]
        },
        "id": "ThvI293FoZ6L",
        "outputId": "caa0454a-9327-40c2-e7dd-3c2a070a735c"
      },
      "execution_count": null,
      "outputs": [
        {
          "output_type": "display_data",
          "data": {
            "text/plain": [
              "<IPython.core.display.HTML object>"
            ],
            "text/html": []
          },
          "metadata": {}
        },
        {
          "output_type": "display_data",
          "data": {
            "text/plain": [
              "<pandas.io.formats.style.Styler at 0x7f774885ebf0>"
            ],
            "text/html": [
              "<style type=\"text/css\">\n",
              "#T_b39c3_row10_col0, #T_b39c3_row10_col1, #T_b39c3_row10_col2, #T_b39c3_row10_col3, #T_b39c3_row10_col4, #T_b39c3_row10_col5, #T_b39c3_row10_col6 {\n",
              "  background: yellow;\n",
              "}\n",
              "</style>\n",
              "<table id=\"T_b39c3\" class=\"dataframe\">\n",
              "  <thead>\n",
              "    <tr>\n",
              "      <th class=\"blank level0\" >&nbsp;</th>\n",
              "      <th id=\"T_b39c3_level0_col0\" class=\"col_heading level0 col0\" >Accuracy</th>\n",
              "      <th id=\"T_b39c3_level0_col1\" class=\"col_heading level0 col1\" >AUC</th>\n",
              "      <th id=\"T_b39c3_level0_col2\" class=\"col_heading level0 col2\" >Recall</th>\n",
              "      <th id=\"T_b39c3_level0_col3\" class=\"col_heading level0 col3\" >Prec.</th>\n",
              "      <th id=\"T_b39c3_level0_col4\" class=\"col_heading level0 col4\" >F1</th>\n",
              "      <th id=\"T_b39c3_level0_col5\" class=\"col_heading level0 col5\" >Kappa</th>\n",
              "      <th id=\"T_b39c3_level0_col6\" class=\"col_heading level0 col6\" >MCC</th>\n",
              "    </tr>\n",
              "    <tr>\n",
              "      <th class=\"index_name level0\" >Fold</th>\n",
              "      <th class=\"blank col0\" >&nbsp;</th>\n",
              "      <th class=\"blank col1\" >&nbsp;</th>\n",
              "      <th class=\"blank col2\" >&nbsp;</th>\n",
              "      <th class=\"blank col3\" >&nbsp;</th>\n",
              "      <th class=\"blank col4\" >&nbsp;</th>\n",
              "      <th class=\"blank col5\" >&nbsp;</th>\n",
              "      <th class=\"blank col6\" >&nbsp;</th>\n",
              "    </tr>\n",
              "  </thead>\n",
              "  <tbody>\n",
              "    <tr>\n",
              "      <th id=\"T_b39c3_level0_row0\" class=\"row_heading level0 row0\" >0</th>\n",
              "      <td id=\"T_b39c3_row0_col0\" class=\"data row0 col0\" >0.9228</td>\n",
              "      <td id=\"T_b39c3_row0_col1\" class=\"data row0 col1\" >0.9878</td>\n",
              "      <td id=\"T_b39c3_row0_col2\" class=\"data row0 col2\" >0.9228</td>\n",
              "      <td id=\"T_b39c3_row0_col3\" class=\"data row0 col3\" >0.9267</td>\n",
              "      <td id=\"T_b39c3_row0_col4\" class=\"data row0 col4\" >0.9223</td>\n",
              "      <td id=\"T_b39c3_row0_col5\" class=\"data row0 col5\" >0.8842</td>\n",
              "      <td id=\"T_b39c3_row0_col6\" class=\"data row0 col6\" >0.8864</td>\n",
              "    </tr>\n",
              "    <tr>\n",
              "      <th id=\"T_b39c3_level0_row1\" class=\"row_heading level0 row1\" >1</th>\n",
              "      <td id=\"T_b39c3_row1_col0\" class=\"data row1 col0\" >0.9614</td>\n",
              "      <td id=\"T_b39c3_row1_col1\" class=\"data row1 col1\" >0.9961</td>\n",
              "      <td id=\"T_b39c3_row1_col2\" class=\"data row1 col2\" >0.9614</td>\n",
              "      <td id=\"T_b39c3_row1_col3\" class=\"data row1 col3\" >0.9615</td>\n",
              "      <td id=\"T_b39c3_row1_col4\" class=\"data row1 col4\" >0.9612</td>\n",
              "      <td id=\"T_b39c3_row1_col5\" class=\"data row1 col5\" >0.9421</td>\n",
              "      <td id=\"T_b39c3_row1_col6\" class=\"data row1 col6\" >0.9423</td>\n",
              "    </tr>\n",
              "    <tr>\n",
              "      <th id=\"T_b39c3_level0_row2\" class=\"row_heading level0 row2\" >2</th>\n",
              "      <td id=\"T_b39c3_row2_col0\" class=\"data row2 col0\" >0.9305</td>\n",
              "      <td id=\"T_b39c3_row2_col1\" class=\"data row2 col1\" >0.9893</td>\n",
              "      <td id=\"T_b39c3_row2_col2\" class=\"data row2 col2\" >0.9305</td>\n",
              "      <td id=\"T_b39c3_row2_col3\" class=\"data row2 col3\" >0.9330</td>\n",
              "      <td id=\"T_b39c3_row2_col4\" class=\"data row2 col4\" >0.9302</td>\n",
              "      <td id=\"T_b39c3_row2_col5\" class=\"data row2 col5\" >0.8957</td>\n",
              "      <td id=\"T_b39c3_row2_col6\" class=\"data row2 col6\" >0.8972</td>\n",
              "    </tr>\n",
              "    <tr>\n",
              "      <th id=\"T_b39c3_level0_row3\" class=\"row_heading level0 row3\" >3</th>\n",
              "      <td id=\"T_b39c3_row3_col0\" class=\"data row3 col0\" >0.9305</td>\n",
              "      <td id=\"T_b39c3_row3_col1\" class=\"data row3 col1\" >0.9860</td>\n",
              "      <td id=\"T_b39c3_row3_col2\" class=\"data row3 col2\" >0.9305</td>\n",
              "      <td id=\"T_b39c3_row3_col3\" class=\"data row3 col3\" >0.9334</td>\n",
              "      <td id=\"T_b39c3_row3_col4\" class=\"data row3 col4\" >0.9303</td>\n",
              "      <td id=\"T_b39c3_row3_col5\" class=\"data row3 col5\" >0.8957</td>\n",
              "      <td id=\"T_b39c3_row3_col6\" class=\"data row3 col6\" >0.8973</td>\n",
              "    </tr>\n",
              "    <tr>\n",
              "      <th id=\"T_b39c3_level0_row4\" class=\"row_heading level0 row4\" >4</th>\n",
              "      <td id=\"T_b39c3_row4_col0\" class=\"data row4 col0\" >0.9421</td>\n",
              "      <td id=\"T_b39c3_row4_col1\" class=\"data row4 col1\" >0.9935</td>\n",
              "      <td id=\"T_b39c3_row4_col2\" class=\"data row4 col2\" >0.9421</td>\n",
              "      <td id=\"T_b39c3_row4_col3\" class=\"data row4 col3\" >0.9433</td>\n",
              "      <td id=\"T_b39c3_row4_col4\" class=\"data row4 col4\" >0.9419</td>\n",
              "      <td id=\"T_b39c3_row4_col5\" class=\"data row4 col5\" >0.9131</td>\n",
              "      <td id=\"T_b39c3_row4_col6\" class=\"data row4 col6\" >0.9139</td>\n",
              "    </tr>\n",
              "    <tr>\n",
              "      <th id=\"T_b39c3_level0_row5\" class=\"row_heading level0 row5\" >5</th>\n",
              "      <td id=\"T_b39c3_row5_col0\" class=\"data row5 col0\" >0.9264</td>\n",
              "      <td id=\"T_b39c3_row5_col1\" class=\"data row5 col1\" >0.9909</td>\n",
              "      <td id=\"T_b39c3_row5_col2\" class=\"data row5 col2\" >0.9264</td>\n",
              "      <td id=\"T_b39c3_row5_col3\" class=\"data row5 col3\" >0.9285</td>\n",
              "      <td id=\"T_b39c3_row5_col4\" class=\"data row5 col4\" >0.9259</td>\n",
              "      <td id=\"T_b39c3_row5_col5\" class=\"data row5 col5\" >0.8895</td>\n",
              "      <td id=\"T_b39c3_row5_col6\" class=\"data row5 col6\" >0.8910</td>\n",
              "    </tr>\n",
              "    <tr>\n",
              "      <th id=\"T_b39c3_level0_row6\" class=\"row_heading level0 row6\" >6</th>\n",
              "      <td id=\"T_b39c3_row6_col0\" class=\"data row6 col0\" >0.9264</td>\n",
              "      <td id=\"T_b39c3_row6_col1\" class=\"data row6 col1\" >0.9889</td>\n",
              "      <td id=\"T_b39c3_row6_col2\" class=\"data row6 col2\" >0.9264</td>\n",
              "      <td id=\"T_b39c3_row6_col3\" class=\"data row6 col3\" >0.9310</td>\n",
              "      <td id=\"T_b39c3_row6_col4\" class=\"data row6 col4\" >0.9261</td>\n",
              "      <td id=\"T_b39c3_row6_col5\" class=\"data row6 col5\" >0.8895</td>\n",
              "      <td id=\"T_b39c3_row6_col6\" class=\"data row6 col6\" >0.8919</td>\n",
              "    </tr>\n",
              "    <tr>\n",
              "      <th id=\"T_b39c3_level0_row7\" class=\"row_heading level0 row7\" >7</th>\n",
              "      <td id=\"T_b39c3_row7_col0\" class=\"data row7 col0\" >0.9302</td>\n",
              "      <td id=\"T_b39c3_row7_col1\" class=\"data row7 col1\" >0.9852</td>\n",
              "      <td id=\"T_b39c3_row7_col2\" class=\"data row7 col2\" >0.9302</td>\n",
              "      <td id=\"T_b39c3_row7_col3\" class=\"data row7 col3\" >0.9334</td>\n",
              "      <td id=\"T_b39c3_row7_col4\" class=\"data row7 col4\" >0.9298</td>\n",
              "      <td id=\"T_b39c3_row7_col5\" class=\"data row7 col5\" >0.8954</td>\n",
              "      <td id=\"T_b39c3_row7_col6\" class=\"data row7 col6\" >0.8973</td>\n",
              "    </tr>\n",
              "    <tr>\n",
              "      <th id=\"T_b39c3_level0_row8\" class=\"row_heading level0 row8\" >8</th>\n",
              "      <td id=\"T_b39c3_row8_col0\" class=\"data row8 col0\" >0.9496</td>\n",
              "      <td id=\"T_b39c3_row8_col1\" class=\"data row8 col1\" >0.9927</td>\n",
              "      <td id=\"T_b39c3_row8_col2\" class=\"data row8 col2\" >0.9496</td>\n",
              "      <td id=\"T_b39c3_row8_col3\" class=\"data row8 col3\" >0.9511</td>\n",
              "      <td id=\"T_b39c3_row8_col4\" class=\"data row8 col4\" >0.9495</td>\n",
              "      <td id=\"T_b39c3_row8_col5\" class=\"data row8 col5\" >0.9244</td>\n",
              "      <td id=\"T_b39c3_row8_col6\" class=\"data row8 col6\" >0.9253</td>\n",
              "    </tr>\n",
              "    <tr>\n",
              "      <th id=\"T_b39c3_level0_row9\" class=\"row_heading level0 row9\" >9</th>\n",
              "      <td id=\"T_b39c3_row9_col0\" class=\"data row9 col0\" >0.9264</td>\n",
              "      <td id=\"T_b39c3_row9_col1\" class=\"data row9 col1\" >0.9875</td>\n",
              "      <td id=\"T_b39c3_row9_col2\" class=\"data row9 col2\" >0.9264</td>\n",
              "      <td id=\"T_b39c3_row9_col3\" class=\"data row9 col3\" >0.9290</td>\n",
              "      <td id=\"T_b39c3_row9_col4\" class=\"data row9 col4\" >0.9261</td>\n",
              "      <td id=\"T_b39c3_row9_col5\" class=\"data row9 col5\" >0.8895</td>\n",
              "      <td id=\"T_b39c3_row9_col6\" class=\"data row9 col6\" >0.8910</td>\n",
              "    </tr>\n",
              "    <tr>\n",
              "      <th id=\"T_b39c3_level0_row10\" class=\"row_heading level0 row10\" >Mean</th>\n",
              "      <td id=\"T_b39c3_row10_col0\" class=\"data row10 col0\" >0.9346</td>\n",
              "      <td id=\"T_b39c3_row10_col1\" class=\"data row10 col1\" >0.9898</td>\n",
              "      <td id=\"T_b39c3_row10_col2\" class=\"data row10 col2\" >0.9346</td>\n",
              "      <td id=\"T_b39c3_row10_col3\" class=\"data row10 col3\" >0.9371</td>\n",
              "      <td id=\"T_b39c3_row10_col4\" class=\"data row10 col4\" >0.9343</td>\n",
              "      <td id=\"T_b39c3_row10_col5\" class=\"data row10 col5\" >0.9019</td>\n",
              "      <td id=\"T_b39c3_row10_col6\" class=\"data row10 col6\" >0.9033</td>\n",
              "    </tr>\n",
              "    <tr>\n",
              "      <th id=\"T_b39c3_level0_row11\" class=\"row_heading level0 row11\" >Std</th>\n",
              "      <td id=\"T_b39c3_row11_col0\" class=\"data row11 col0\" >0.0118</td>\n",
              "      <td id=\"T_b39c3_row11_col1\" class=\"data row11 col1\" >0.0033</td>\n",
              "      <td id=\"T_b39c3_row11_col2\" class=\"data row11 col2\" >0.0118</td>\n",
              "      <td id=\"T_b39c3_row11_col3\" class=\"data row11 col3\" >0.0108</td>\n",
              "      <td id=\"T_b39c3_row11_col4\" class=\"data row11 col4\" >0.0119</td>\n",
              "      <td id=\"T_b39c3_row11_col5\" class=\"data row11 col5\" >0.0177</td>\n",
              "      <td id=\"T_b39c3_row11_col6\" class=\"data row11 col6\" >0.0172</td>\n",
              "    </tr>\n",
              "  </tbody>\n",
              "</table>\n"
            ]
          },
          "metadata": {}
        },
        {
          "output_type": "display_data",
          "data": {
            "text/plain": [
              "Processing:   0%|          | 0/7 [00:00<?, ?it/s]"
            ],
            "application/vnd.jupyter.widget-view+json": {
              "version_major": 2,
              "version_minor": 0,
              "model_id": "2736b02cd21b41dfbc12560199c2f24c"
            }
          },
          "metadata": {
            "application/vnd.jupyter.widget-view+json": {
              "colab": {
                "custom_widget_manager": {
                  "url": "https://ssl.gstatic.com/colaboratory-static/widgets/colab-cdn-widget-manager/b3e629b1971e1542/manager.min.js"
                }
              }
            }
          }
        },
        {
          "output_type": "stream",
          "name": "stdout",
          "text": [
            "Fitting 10 folds for each of 10 candidates, totalling 100 fits\n"
          ]
        },
        {
          "output_type": "display_data",
          "data": {
            "text/plain": [
              "<IPython.core.display.HTML object>"
            ],
            "text/html": []
          },
          "metadata": {}
        },
        {
          "output_type": "stream",
          "name": "stdout",
          "text": [
            "Original model was better than the tuned model, hence it will be returned. NOTE: The display metrics are for the tuned model (not the original one).\n"
          ]
        }
      ]
    },
    {
      "cell_type": "markdown",
      "source": [],
      "metadata": {
        "id": "xKHv9rnREHki"
      }
    },
    {
      "cell_type": "code",
      "source": [
        "# veriificando os parâmetros\n",
        "print(tuned_et)"
      ],
      "metadata": {
        "colab": {
          "base_uri": "https://localhost:8080/",
          "height": 131
        },
        "id": "WwRQ4y-optO0",
        "outputId": "2f6e6d0a-ba5e-437c-aa5a-57e3628774ef"
      },
      "execution_count": null,
      "outputs": [
        {
          "output_type": "display_data",
          "data": {
            "text/plain": [
              "\u001b[1;35mExtraTreesClassifier\u001b[0m\u001b[1m(\u001b[0m\u001b[33mbootstrap\u001b[0m=\u001b[3;91mFalse\u001b[0m, \u001b[33mccp_alpha\u001b[0m=\u001b[1;36m0\u001b[0m\u001b[1;36m.0\u001b[0m, \u001b[33mclass_weight\u001b[0m=\u001b[3;35mNone\u001b[0m,\n",
              "                     \u001b[33mcriterion\u001b[0m=\u001b[32m'gini'\u001b[0m, \u001b[33mmax_depth\u001b[0m=\u001b[3;35mNone\u001b[0m, \u001b[33mmax_features\u001b[0m=\u001b[32m'sqrt'\u001b[0m,\n",
              "                     \u001b[33mmax_leaf_nodes\u001b[0m=\u001b[3;35mNone\u001b[0m, \u001b[33mmax_samples\u001b[0m=\u001b[3;35mNone\u001b[0m,\n",
              "                     \u001b[33mmin_impurity_decrease\u001b[0m=\u001b[1;36m0\u001b[0m\u001b[1;36m.0\u001b[0m, \u001b[33mmin_samples_leaf\u001b[0m=\u001b[1;36m1\u001b[0m,\n",
              "                     \u001b[33mmin_samples_split\u001b[0m=\u001b[1;36m2\u001b[0m, \u001b[33mmin_weight_fraction_leaf\u001b[0m=\u001b[1;36m0\u001b[0m\u001b[1;36m.0\u001b[0m,\n",
              "                     \u001b[33mn_estimators\u001b[0m=\u001b[1;36m100\u001b[0m, \u001b[33mn_jobs\u001b[0m=\u001b[1;36m-1\u001b[0m, \u001b[33moob_score\u001b[0m=\u001b[3;91mFalse\u001b[0m,\n",
              "                     \u001b[33mrandom_state\u001b[0m=\u001b[1;36m6025\u001b[0m, \u001b[33mverbose\u001b[0m=\u001b[1;36m0\u001b[0m, \u001b[33mwarm_start\u001b[0m=\u001b[3;91mFalse\u001b[0m\u001b[1m)\u001b[0m\n"
            ],
            "text/html": [
              "<pre style=\"white-space:pre;overflow-x:auto;line-height:normal;font-family:Menlo,'DejaVu Sans Mono',consolas,'Courier New',monospace\"><span style=\"color: #800080; text-decoration-color: #800080; font-weight: bold\">ExtraTreesClassifier</span><span style=\"font-weight: bold\">(</span><span style=\"color: #808000; text-decoration-color: #808000\">bootstrap</span>=<span style=\"color: #ff0000; text-decoration-color: #ff0000; font-style: italic\">False</span>, <span style=\"color: #808000; text-decoration-color: #808000\">ccp_alpha</span>=<span style=\"color: #008080; text-decoration-color: #008080; font-weight: bold\">0.0</span>, <span style=\"color: #808000; text-decoration-color: #808000\">class_weight</span>=<span style=\"color: #800080; text-decoration-color: #800080; font-style: italic\">None</span>,\n",
              "                     <span style=\"color: #808000; text-decoration-color: #808000\">criterion</span>=<span style=\"color: #008000; text-decoration-color: #008000\">'gini'</span>, <span style=\"color: #808000; text-decoration-color: #808000\">max_depth</span>=<span style=\"color: #800080; text-decoration-color: #800080; font-style: italic\">None</span>, <span style=\"color: #808000; text-decoration-color: #808000\">max_features</span>=<span style=\"color: #008000; text-decoration-color: #008000\">'sqrt'</span>,\n",
              "                     <span style=\"color: #808000; text-decoration-color: #808000\">max_leaf_nodes</span>=<span style=\"color: #800080; text-decoration-color: #800080; font-style: italic\">None</span>, <span style=\"color: #808000; text-decoration-color: #808000\">max_samples</span>=<span style=\"color: #800080; text-decoration-color: #800080; font-style: italic\">None</span>,\n",
              "                     <span style=\"color: #808000; text-decoration-color: #808000\">min_impurity_decrease</span>=<span style=\"color: #008080; text-decoration-color: #008080; font-weight: bold\">0.0</span>, <span style=\"color: #808000; text-decoration-color: #808000\">min_samples_leaf</span>=<span style=\"color: #008080; text-decoration-color: #008080; font-weight: bold\">1</span>,\n",
              "                     <span style=\"color: #808000; text-decoration-color: #808000\">min_samples_split</span>=<span style=\"color: #008080; text-decoration-color: #008080; font-weight: bold\">2</span>, <span style=\"color: #808000; text-decoration-color: #808000\">min_weight_fraction_leaf</span>=<span style=\"color: #008080; text-decoration-color: #008080; font-weight: bold\">0.0</span>,\n",
              "                     <span style=\"color: #808000; text-decoration-color: #808000\">n_estimators</span>=<span style=\"color: #008080; text-decoration-color: #008080; font-weight: bold\">100</span>, <span style=\"color: #808000; text-decoration-color: #808000\">n_jobs</span>=<span style=\"color: #008080; text-decoration-color: #008080; font-weight: bold\">-1</span>, <span style=\"color: #808000; text-decoration-color: #808000\">oob_score</span>=<span style=\"color: #ff0000; text-decoration-color: #ff0000; font-style: italic\">False</span>,\n",
              "                     <span style=\"color: #808000; text-decoration-color: #808000\">random_state</span>=<span style=\"color: #008080; text-decoration-color: #008080; font-weight: bold\">6025</span>, <span style=\"color: #808000; text-decoration-color: #808000\">verbose</span>=<span style=\"color: #008080; text-decoration-color: #008080; font-weight: bold\">0</span>, <span style=\"color: #808000; text-decoration-color: #808000\">warm_start</span>=<span style=\"color: #ff0000; text-decoration-color: #ff0000; font-style: italic\">False</span><span style=\"font-weight: bold\">)</span>\n",
              "</pre>\n"
            ]
          },
          "metadata": {}
        }
      ]
    },
    {
      "cell_type": "markdown",
      "source": [
        "PyCaret facilita cada parte do processo de Machine Learning, e a visualização dos resultados não poderia ser diferente.\n",
        "\n",
        "É muito prático plotar uma matriz de confusão dos resultados, por exemplo."
      ],
      "metadata": {
        "id": "kYDMGA2ouTvv"
      }
    },
    {
      "cell_type": "code",
      "metadata": {
        "id": "aWh5vJ3xwvaD",
        "colab": {
          "base_uri": "https://localhost:8080/",
          "height": 455
        },
        "outputId": "60b839e6-80d7-4aa5-c2a5-f900489d1dab"
      },
      "source": [
        "# plotando matriz de confusão\n",
        "fig, ax = plt.subplots(figsize=(10, 6), dpi=72)\n",
        "plot_model(tuned_et, plot='confusion_matrix')\n",
        "plt.tight_layout()"
      ],
      "execution_count": null,
      "outputs": [
        {
          "output_type": "display_data",
          "data": {
            "text/plain": [
              "<IPython.core.display.HTML object>"
            ],
            "text/html": []
          },
          "metadata": {}
        },
        {
          "output_type": "display_data",
          "data": {
            "text/plain": [
              "<Figure size 720x432 with 1 Axes>"
            ],
            "image/png": "[encoded data removed]"
          },
          "metadata": {}
        },
        {
          "output_type": "display_data",
          "data": {
            "text/plain": [
              "<Figure size 800x550 with 0 Axes>"
            ]
          },
          "metadata": {}
        }
      ]
    },
    {
      "cell_type": "markdown",
      "metadata": {
        "id": "szNDG1Cvy_i_"
      },
      "source": [
        "Outra visualização extremamente importante é a de `feature_importances`. Essa visualização basicamente nos mostra o poder preditivo de cada variável para o nosso modelo."
      ]
    },
    {
      "cell_type": "code",
      "source": [
        "# feature importances\n",
        "plot_model(tuned_et, plot='feature')"
      ],
      "metadata": {
        "colab": {
          "base_uri": "https://localhost:8080/",
          "height": 488
        },
        "id": "mrKQlsGXu9BP",
        "outputId": "5fd21f58-531b-44dd-c07b-c90621e34a6e"
      },
      "execution_count": null,
      "outputs": [
        {
          "output_type": "display_data",
          "data": {
            "text/plain": [
              "<IPython.core.display.HTML object>"
            ],
            "text/html": []
          },
          "metadata": {}
        },
        {
          "output_type": "display_data",
          "data": {
            "text/plain": [
              "<Figure size 800x500 with 1 Axes>"
            ],
            "image/png": "[encoded data removed]"
          },
          "metadata": {}
        }
      ]
    },
    {
      "cell_type": "markdown",
      "metadata": {
        "id": "ONq71_lvxPvZ"
      },
      "source": [
        "### Finalizando o Modelo\n",
        "\n",
        "Agora que já conseguimos treinar nosso modelo, podemos finalizar ele e  seguir para as previsões no nosso conjunto de testes."
      ]
    },
    {
      "cell_type": "code",
      "source": [
        "# finalizando o modelo\n",
        "final_et = finalize_model(tuned_et)"
      ],
      "metadata": {
        "id": "SR9I0EVNv1Km"
      },
      "execution_count": null,
      "outputs": []
    },
    {
      "cell_type": "markdown",
      "source": [
        "## Avaliar o desempenho do modelo\n",
        "\n",
        "A avaliação é a etapa onde testamos se nosso modelo é capaz de cumprir a missão que foi definida para ele. É nessa fase que utilizamos diferentes métricas e técnicas para avaliar a eficácia do modelo em relação aos dados de teste. Mas não é só isso! Também avaliamos se o modelo é capaz de lidar com novos dados que não foram usados no treinamento e se ele é robusto o suficiente para lidar com diferentes cenários e variações. É uma fase crucial para garantir que estamos entregando resultados precisos e confiáveis."
      ],
      "metadata": {
        "id": "3cQb11uBrvkq"
      }
    },
    {
      "cell_type": "code",
      "source": [
        "from sklearn.metrics import classification_report"
      ],
      "metadata": {
        "id": "7ZNTH_Q_6ZiL"
      },
      "execution_count": null,
      "outputs": []
    },
    {
      "cell_type": "code",
      "source": [
        "test = pd.DataFrame(x_test, columns=df_health.columns[:21])\n",
        "test['target'] = y_test"
      ],
      "metadata": {
        "id": "N_yayEpawdIj"
      },
      "execution_count": null,
      "outputs": []
    },
    {
      "cell_type": "code",
      "source": [
        "# fazendo previsões com conjunto de teste\n",
        "test_preds = predict_model(final_et, data=test)"
      ],
      "metadata": {
        "id": "mjRLOxp5Dvrf",
        "colab": {
          "base_uri": "https://localhost:8080/",
          "height": 80
        },
        "outputId": "f4ca4a28-b78e-42a0-c554-dc782de1a9d1"
      },
      "execution_count": null,
      "outputs": [
        {
          "output_type": "display_data",
          "data": {
            "text/plain": [
              "<pandas.io.formats.style.Styler at 0x7f774885ebf0>"
            ],
            "text/html": [
              "<style type=\"text/css\">\n",
              "</style>\n",
              "<table id=\"T_01542\" class=\"dataframe\">\n",
              "  <thead>\n",
              "    <tr>\n",
              "      <th class=\"blank level0\" >&nbsp;</th>\n",
              "      <th id=\"T_01542_level0_col0\" class=\"col_heading level0 col0\" >Model</th>\n",
              "      <th id=\"T_01542_level0_col1\" class=\"col_heading level0 col1\" >Accuracy</th>\n",
              "      <th id=\"T_01542_level0_col2\" class=\"col_heading level0 col2\" >AUC</th>\n",
              "      <th id=\"T_01542_level0_col3\" class=\"col_heading level0 col3\" >Recall</th>\n",
              "      <th id=\"T_01542_level0_col4\" class=\"col_heading level0 col4\" >Prec.</th>\n",
              "      <th id=\"T_01542_level0_col5\" class=\"col_heading level0 col5\" >F1</th>\n",
              "      <th id=\"T_01542_level0_col6\" class=\"col_heading level0 col6\" >Kappa</th>\n",
              "      <th id=\"T_01542_level0_col7\" class=\"col_heading level0 col7\" >MCC</th>\n",
              "    </tr>\n",
              "  </thead>\n",
              "  <tbody>\n",
              "    <tr>\n",
              "      <th id=\"T_01542_level0_row0\" class=\"row_heading level0 row0\" >0</th>\n",
              "      <td id=\"T_01542_row0_col0\" class=\"data row0 col0\" >Extra Trees Classifier</td>\n",
              "      <td id=\"T_01542_row0_col1\" class=\"data row0 col1\" >0.9361</td>\n",
              "      <td id=\"T_01542_row0_col2\" class=\"data row0 col2\" >0.9853</td>\n",
              "      <td id=\"T_01542_row0_col3\" class=\"data row0 col3\" >0.8220</td>\n",
              "      <td id=\"T_01542_row0_col4\" class=\"data row0 col4\" >0.8389</td>\n",
              "      <td id=\"T_01542_row0_col5\" class=\"data row0 col5\" >0.8300</td>\n",
              "      <td id=\"T_01542_row0_col6\" class=\"data row0 col6\" >0.8251</td>\n",
              "      <td id=\"T_01542_row0_col7\" class=\"data row0 col7\" >0.8252</td>\n",
              "    </tr>\n",
              "  </tbody>\n",
              "</table>\n"
            ]
          },
          "metadata": {}
        }
      ]
    },
    {
      "cell_type": "code",
      "source": [
        "import scikitplot as skplt"
      ],
      "metadata": {
        "id": "ugnmxGvgzxeO"
      },
      "execution_count": null,
      "outputs": []
    },
    {
      "cell_type": "code",
      "source": [
        "print('Relatório de Classificação:\\n', classification_report(test_preds['target'], test_preds['prediction_label'], digits=4))\n",
        "skplt.metrics.plot_confusion_matrix(test_preds['target'], test_preds['prediction_label'])"
      ],
      "metadata": {
        "colab": {
          "base_uri": "https://localhost:8080/",
          "height": 732
        },
        "id": "nekKCtibyi-K",
        "outputId": "86b27c6c-11cc-48bb-f01b-abdb6868ed7c"
      },
      "execution_count": null,
      "outputs": [
        {
          "output_type": "display_data",
          "data": {
            "text/plain": [
              "Relatório de Classificação:\n",
              "               precision    recall  f1-score   support\n",
              "\n",
              "         \u001b[1;36m1.0\u001b[0m     \u001b[1;36m0.9639\u001b[0m    \u001b[1;36m0.9686\u001b[0m    \u001b[1;36m0.9663\u001b[0m       \u001b[1;36m414\u001b[0m\n",
              "         \u001b[1;36m2.0\u001b[0m     \u001b[1;36m0.7867\u001b[0m    \u001b[1;36m0.7973\u001b[0m    \u001b[1;36m0.7919\u001b[0m        \u001b[1;36m74\u001b[0m\n",
              "         \u001b[1;36m3.0\u001b[0m     \u001b[1;36m0.9268\u001b[0m    \u001b[1;36m0.8636\u001b[0m    \u001b[1;36m0.8941\u001b[0m        \u001b[1;36m44\u001b[0m\n",
              "\n",
              "    accuracy                         \u001b[1;36m0.9361\u001b[0m       \u001b[1;36m532\u001b[0m\n",
              "   macro avg     \u001b[1;36m0.8925\u001b[0m    \u001b[1;36m0.8765\u001b[0m    \u001b[1;36m0.8841\u001b[0m       \u001b[1;36m532\u001b[0m\n",
              "weighted avg     \u001b[1;36m0.9362\u001b[0m    \u001b[1;36m0.9361\u001b[0m    \u001b[1;36m0.9361\u001b[0m       \u001b[1;36m532\u001b[0m\n",
              "\n"
            ],
            "text/html": [
              "<pre style=\"white-space:pre;overflow-x:auto;line-height:normal;font-family:Menlo,'DejaVu Sans Mono',consolas,'Courier New',monospace\">Relatório de Classificação:\n",
              "               precision    recall  f1-score   support\n",
              "\n",
              "         <span style=\"color: #008080; text-decoration-color: #008080; font-weight: bold\">1.0</span>     <span style=\"color: #008080; text-decoration-color: #008080; font-weight: bold\">0.9639</span>    <span style=\"color: #008080; text-decoration-color: #008080; font-weight: bold\">0.9686</span>    <span style=\"color: #008080; text-decoration-color: #008080; font-weight: bold\">0.9663</span>       <span style=\"color: #008080; text-decoration-color: #008080; font-weight: bold\">414</span>\n",
              "         <span style=\"color: #008080; text-decoration-color: #008080; font-weight: bold\">2.0</span>     <span style=\"color: #008080; text-decoration-color: #008080; font-weight: bold\">0.7867</span>    <span style=\"color: #008080; text-decoration-color: #008080; font-weight: bold\">0.7973</span>    <span style=\"color: #008080; text-decoration-color: #008080; font-weight: bold\">0.7919</span>        <span style=\"color: #008080; text-decoration-color: #008080; font-weight: bold\">74</span>\n",
              "         <span style=\"color: #008080; text-decoration-color: #008080; font-weight: bold\">3.0</span>     <span style=\"color: #008080; text-decoration-color: #008080; font-weight: bold\">0.9268</span>    <span style=\"color: #008080; text-decoration-color: #008080; font-weight: bold\">0.8636</span>    <span style=\"color: #008080; text-decoration-color: #008080; font-weight: bold\">0.8941</span>        <span style=\"color: #008080; text-decoration-color: #008080; font-weight: bold\">44</span>\n",
              "\n",
              "    accuracy                         <span style=\"color: #008080; text-decoration-color: #008080; font-weight: bold\">0.9361</span>       <span style=\"color: #008080; text-decoration-color: #008080; font-weight: bold\">532</span>\n",
              "   macro avg     <span style=\"color: #008080; text-decoration-color: #008080; font-weight: bold\">0.8925</span>    <span style=\"color: #008080; text-decoration-color: #008080; font-weight: bold\">0.8765</span>    <span style=\"color: #008080; text-decoration-color: #008080; font-weight: bold\">0.8841</span>       <span style=\"color: #008080; text-decoration-color: #008080; font-weight: bold\">532</span>\n",
              "weighted avg     <span style=\"color: #008080; text-decoration-color: #008080; font-weight: bold\">0.9362</span>    <span style=\"color: #008080; text-decoration-color: #008080; font-weight: bold\">0.9361</span>    <span style=\"color: #008080; text-decoration-color: #008080; font-weight: bold\">0.9361</span>       <span style=\"color: #008080; text-decoration-color: #008080; font-weight: bold\">532</span>\n",
              "\n",
              "</pre>\n"
            ]
          },
          "metadata": {}
        },
        {
          "output_type": "execute_result",
          "data": {
            "text/plain": [
              "<Axes: title={'center': 'Confusion Matrix'}, xlabel='Predicted label', ylabel='True label'>"
            ]
          },
          "metadata": {},
          "execution_count": 46
        },
        {
          "output_type": "display_data",
          "data": {
            "text/plain": [
              "<Figure size 800x550 with 2 Axes>"
            ],
            "image/png": "[encoded data removed]"
          },
          "metadata": {}
        }
      ]
    },
    {
      "cell_type": "code",
      "source": [],
      "metadata": {
        "id": "_Aw2BQg82E1X"
      },
      "execution_count": null,
      "outputs": []
    }
  ]
}